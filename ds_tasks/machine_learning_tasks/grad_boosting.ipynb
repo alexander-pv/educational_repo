{
 "cells": [
  {
   "cell_type": "markdown",
   "metadata": {},
   "source": [
    "# Градиентный бустинг своими руками\n",
    "\n",
    "**Внимание:** в тексте задания произошли изменения - поменялось число деревьев (теперь 50), правило изменения величины шага в задании 3 и добавился параметр `random_state` у решающего дерева. Правильные ответы не поменялись, но теперь их проще получить. Также исправлена опечатка в функции `gbm_predict`.\n",
    "\n",
    "В этом задании будет использоваться датасет `boston` из `sklearn.datasets`. Оставьте последние 25% объектов для контроля качества, разделив `X` и `y` на `X_train`, `y_train` и `X_test`, `y_test`.\n",
    "\n",
    "Целью задания будет реализовать простой вариант градиентного бустинга над регрессионными деревьями для случая квадратичной функции потерь."
   ]
  },
  {
   "cell_type": "code",
   "execution_count": 35,
   "metadata": {},
   "outputs": [],
   "source": [
    "from sklearn import datasets\n",
    "from sklearn.tree import DecisionTreeRegressor"
   ]
  },
  {
   "cell_type": "code",
   "execution_count": 32,
   "metadata": {},
   "outputs": [
    {
     "data": {
      "text/plain": [
       "dict_keys(['data', 'target', 'feature_names', 'DESCR'])"
      ]
     },
     "execution_count": 32,
     "metadata": {},
     "output_type": "execute_result"
    }
   ],
   "source": [
    "boston = datasets.load_boston()\n",
    "boston.keys()"
   ]
  },
  {
   "cell_type": "code",
   "execution_count": 33,
   "metadata": {},
   "outputs": [],
   "source": [
    "y = boston.target\n",
    "X = boston.data"
   ]
  },
  {
   "cell_type": "code",
   "execution_count": 78,
   "metadata": {},
   "outputs": [],
   "source": [
    "X_test, y_test = X[-round(X.shape[0]*0.25):].copy(), y[-round(X.shape[0]*0.25):]\n",
    "X_train, y_train = X[:-round(X.shape[0]*0.25)].copy(), y[:-round(X.shape[0]*0.25)]"
   ]
  },
  {
   "cell_type": "markdown",
   "metadata": {},
   "source": [
    "## Задание 1\n",
    "\n",
    "Как вы уже знаете из лекций, **бустинг** - это метод построения композиций базовых алгоритмов с помощью последовательного добавления к текущей композиции нового алгоритма с некоторым коэффициентом. \n",
    "\n",
    "Градиентный бустинг обучает каждый новый алгоритм так, чтобы он приближал антиградиент ошибки по ответам композиции на обучающей выборке. Аналогично минимизации функций методом градиентного спуска, в градиентном бустинге мы подправляем композицию, изменяя алгоритм в направлении антиградиента ошибки.\n",
    "\n",
    "Воспользуйтесь формулой из лекций, задающей ответы на обучающей выборке, на которые нужно обучать новый алгоритм (фактически это лишь чуть более подробно расписанный градиент от ошибки), и получите частный ее случай, если функция потерь `L` - квадрат отклонения ответа композиции `a(x)` от правильного ответа `y` на данном `x`.\n",
    "\n",
    "Если вы давно не считали производную самостоятельно, вам поможет таблица производных элементарных функций (которую несложно найти в интернете) и правило дифференцирования сложной функции. __После дифференцирования квадрата у вас возникнет множитель 2 — т.к. нам все равно предстоит выбирать коэффициент, с которым будет добавлен новый базовый алгоритм__, проигноируйте этот множитель при дальнейшем построении алгоритма."
   ]
  },
  {
   "cell_type": "markdown",
   "metadata": {
    "collapsed": true
   },
   "source": [
    "$s_i = L(\\ y_i -   \\sum_{n=1}^{N-1}a_{N-1}(x_i) \\ )^2$"
   ]
  },
  {
   "cell_type": "code",
   "execution_count": 79,
   "metadata": {},
   "outputs": [],
   "source": [
    "def s_i(y_true, trees_preds):\n",
    "    s = [(y_true - pred) for y_true, pred in zip(y_true, trees_preds)]\n",
    "    return s"
   ]
  },
  {
   "cell_type": "markdown",
   "metadata": {},
   "source": [
    "## Задание 2\n",
    "\n",
    "Заведите массив для объектов `DecisionTreeRegressor` (будем их использовать в качестве базовых алгоритмов) и для вещественных чисел (это будут коэффициенты перед базовыми алгоритмами). \n",
    "\n",
    "В цикле от обучите последовательно 50 решающих деревьев с параметрами `max_depth=5` и `random_state=42` (остальные параметры - по умолчанию). В бустинге зачастую используются сотни и тысячи деревьев, но мы ограничимся 50, чтобы алгоритм работал быстрее, и его было проще отлаживать (т.к. цель задания разобраться, как работает метод). Каждое дерево должно обучаться на одном и том же множестве объектов, но ответы, которые учится прогнозировать дерево, будут меняться в соответствие с полученным в задании 1 правилом. \n",
    "\n",
    "Попробуйте для начала всегда брать коэффициент равным 0.9. Обычно оправдано выбирать коэффициент значительно меньшим - порядка 0.05 или 0.1, но т.к. в нашем учебном примере на стандартном датасете будет всего 50 деревьев, возьмем для начала шаг побольше.\n",
    "\n",
    "В процессе реализации обучения вам потребуется функция, которая будет вычислять прогноз построенной на данный момент композиции деревьев на выборке `X`:\n",
    "\n",
    "```\n",
    "def gbm_predict(X):\n",
    "    return [sum([coeff * algo.predict([x])[0] for algo, coeff in zip(base_algorithms_list, coefficients_list)]) for x in X]\n",
    "(считаем, что base_algorithms_list - список с базовыми алгоритмами, coefficients_list - список с коэффициентами перед алгоритмами)\n",
    "```\n",
    "\n",
    "Эта же функция поможет вам получить прогноз на контрольной выборке и оценить качество работы вашего алгоритма с помощью `mean_squared_error` в `sklearn.metrics`. \n",
    "\n",
    "Возведите результат в степень 0.5, чтобы получить `RMSE`. Полученное значение `RMSE` — **ответ в пункте 2**."
   ]
  },
  {
   "cell_type": "code",
   "execution_count": 89,
   "metadata": {},
   "outputs": [],
   "source": [
    "from sklearn.metrics import mean_squared_error\n",
    "def gbm_predict(X, base_algorithms_list, coefficients_list ):\n",
    "    return [sum([coeff * algo.predict([x])[0] for algo, coeff in zip(base_algorithms_list, coefficients_list)]) for x in X]\n",
    "#(считаем, что base_algorithms_list - список с базовыми алгоритмами\n",
    "#coefficients_list - список с коэффициентами перед алгоритмами)"
   ]
  },
  {
   "cell_type": "code",
   "execution_count": 95,
   "metadata": {},
   "outputs": [],
   "source": [
    "def  gradboost_rmse(y_true, X, base_algorithms_list, coefficients_list):\n",
    "    mse = mean_squared_error(y_true = y_true,\n",
    "                         y_pred = gbm_predict(\n",
    "                                             X,\n",
    "                                             base_algorithms_list,\n",
    "                                             coefficients_list \n",
    "                                             ))\n",
    "    rmse = mse**0.5\n",
    "    return rmse\n",
    "    "
   ]
  },
  {
   "cell_type": "code",
   "execution_count": 146,
   "metadata": {},
   "outputs": [
    {
     "name": "stdout",
     "output_type": "stream",
     "text": [
      "Training initial tree\n",
      "RMSE on train:  3.5105268500764284\n",
      "RMSE on test:  4.674470252481672\n",
      "Training tree:2\n",
      "RMSE on train:  1.7754176396348007\n",
      "RMSE on test:  5.141717949778777\n",
      "Training tree:3\n",
      "RMSE on train:  1.4434182513469662\n",
      "RMSE on test:  5.124049626080035\n",
      "Training tree:4\n",
      "RMSE on train:  1.2144273662749985\n",
      "RMSE on test:  5.242437481253342\n",
      "Training tree:5\n",
      "RMSE on train:  1.0444641308940443\n",
      "RMSE on test:  5.3280819452726655\n",
      "Training tree:6\n",
      "RMSE on train:  0.893654627756842\n",
      "RMSE on test:  5.4446917942018205\n",
      "Training tree:7\n",
      "RMSE on train:  0.7357428153716278\n",
      "RMSE on test:  5.484426426922022\n",
      "Training tree:8\n",
      "RMSE on train:  0.6615040843742869\n",
      "RMSE on test:  5.500460014011734\n",
      "Training tree:9\n",
      "RMSE on train:  0.5971593777491764\n",
      "RMSE on test:  5.445559878981753\n",
      "Training tree:10\n",
      "RMSE on train:  0.5413125613833959\n",
      "RMSE on test:  5.461576392113825\n",
      "Training tree:11\n",
      "RMSE on train:  0.4849711680345235\n",
      "RMSE on test:  5.458524973538355\n",
      "Training tree:12\n",
      "RMSE on train:  0.4158477101986377\n",
      "RMSE on test:  5.461549655383642\n",
      "Training tree:13\n",
      "RMSE on train:  0.34069060520143096\n",
      "RMSE on test:  5.436992299820664\n",
      "Training tree:14\n",
      "RMSE on train:  0.2835205244474312\n",
      "RMSE on test:  5.429722713154195\n",
      "Training tree:15\n",
      "RMSE on train:  0.26128232784251815\n",
      "RMSE on test:  5.492715220384317\n",
      "Training tree:16\n",
      "RMSE on train:  0.2152361371317258\n",
      "RMSE on test:  5.484093930360793\n",
      "Training tree:17\n",
      "RMSE on train:  0.18061091192185985\n",
      "RMSE on test:  5.463785008463505\n",
      "Training tree:18\n",
      "RMSE on train:  0.15079921580448855\n",
      "RMSE on test:  5.461928869113862\n",
      "Training tree:19\n",
      "RMSE on train:  0.12763118003941956\n",
      "RMSE on test:  5.472856139002306\n",
      "Training tree:20\n",
      "RMSE on train:  0.11610015623583604\n",
      "RMSE on test:  5.442826961165534\n",
      "Training tree:21\n",
      "RMSE on train:  0.09830471957668258\n",
      "RMSE on test:  5.454707793427517\n",
      "Training tree:22\n",
      "RMSE on train:  0.09389871223490763\n",
      "RMSE on test:  5.456033226601538\n",
      "Training tree:23\n",
      "RMSE on train:  0.0863095583741324\n",
      "RMSE on test:  5.462118189377004\n",
      "Training tree:24\n",
      "RMSE on train:  0.07268605195054334\n",
      "RMSE on test:  5.468126269812729\n",
      "Training tree:25\n",
      "RMSE on train:  0.06761638880660212\n",
      "RMSE on test:  5.465979515345994\n",
      "Training tree:26\n",
      "RMSE on train:  0.06082285640565428\n",
      "RMSE on test:  5.463107085876488\n",
      "Training tree:27\n",
      "RMSE on train:  0.049564399515547114\n",
      "RMSE on test:  5.465360062896471\n",
      "Training tree:28\n",
      "RMSE on train:  0.0464696384144823\n",
      "RMSE on test:  5.456673403792925\n",
      "Training tree:29\n",
      "RMSE on train:  0.039228316808115296\n",
      "RMSE on test:  5.458977215731967\n",
      "Training tree:30\n",
      "RMSE on train:  0.03402174160632911\n",
      "RMSE on test:  5.459229745667066\n",
      "Training tree:31\n",
      "RMSE on train:  0.031064024675452086\n",
      "RMSE on test:  5.459547506114733\n",
      "Training tree:32\n",
      "RMSE on train:  0.027944268309758227\n",
      "RMSE on test:  5.459661293750329\n",
      "Training tree:33\n",
      "RMSE on train:  0.023575949118802498\n",
      "RMSE on test:  5.45802312575315\n",
      "Training tree:34\n",
      "RMSE on train:  0.020673421246284303\n",
      "RMSE on test:  5.459083359588999\n",
      "Training tree:35\n",
      "RMSE on train:  0.01958647462850689\n",
      "RMSE on test:  5.453979357699281\n",
      "Training tree:36\n",
      "RMSE on train:  0.015685898412371703\n",
      "RMSE on test:  5.4541377742547414\n",
      "Training tree:37\n",
      "RMSE on train:  0.014275820758318049\n",
      "RMSE on test:  5.454118676100925\n",
      "Training tree:38\n",
      "RMSE on train:  0.011653996089470337\n",
      "RMSE on test:  5.454083222537938\n",
      "Training tree:39\n",
      "RMSE on train:  0.01104600797601428\n",
      "RMSE on test:  5.454259473843102\n",
      "Training tree:40\n",
      "RMSE on train:  0.010461219038808315\n",
      "RMSE on test:  5.454076305258268\n",
      "Training tree:41\n",
      "RMSE on train:  0.008905416917116287\n",
      "RMSE on test:  5.453936592212171\n",
      "Training tree:42\n",
      "RMSE on train:  0.007196760754087113\n",
      "RMSE on test:  5.45517548341092\n",
      "Training tree:43\n",
      "RMSE on train:  0.006106239810382384\n",
      "RMSE on test:  5.455421535141428\n",
      "Training tree:44\n",
      "RMSE on train:  0.0056462411060766654\n",
      "RMSE on test:  5.455414509846893\n",
      "Training tree:45\n",
      "RMSE on train:  0.005267084297748553\n",
      "RMSE on test:  5.455621085255476\n",
      "Training tree:46\n",
      "RMSE on train:  0.004494455205507705\n",
      "RMSE on test:  5.455936402618682\n",
      "Training tree:47\n",
      "RMSE on train:  0.004056460271092097\n",
      "RMSE on test:  5.455965454678146\n",
      "Training tree:48\n",
      "RMSE on train:  0.0038050059309806964\n",
      "RMSE on test:  5.455669573846901\n",
      "Training tree:49\n",
      "RMSE on train:  0.003445987870751052\n",
      "RMSE on test:  5.455476426226893\n",
      "Training tree:50\n",
      "RMSE on train:  0.002983807824694474\n",
      "RMSE on test:  5.455472074527531\n"
     ]
    }
   ],
   "source": [
    "def grad_boosting(coeff_reg = 0.0):\n",
    "           \n",
    "    base_algorithms_list = []\n",
    "    coefficients_list = []\n",
    "\n",
    "    #1. Initialize algorithm\n",
    "    print('Training initial tree')\n",
    "    tree = DecisionTreeRegressor(max_depth = 5, random_state = 42)\n",
    "    tree.fit(X_train, y_train)\n",
    "    base_algorithms_list.append(tree)\n",
    "    coefficients_list.append(0.9)\n",
    "    s = s_i(y_train, gbm_predict(\n",
    "                                 X_train,\n",
    "                                 base_algorithms_list,\n",
    "                                 coefficients_list )\n",
    "                                 )\n",
    "    print('RMSE on train: ', gradboost_rmse(y_train, X_train, base_algorithms_list, coefficients_list))\n",
    "    print('RMSE on test: ', gradboost_rmse(y_test, X_test, base_algorithms_list, coefficients_list))\n",
    "\n",
    "\n",
    "    #2. Start training\n",
    "    for i in range(1,50):\n",
    "        \n",
    "        print('Training tree:%s'%(i+1))\n",
    "        # Инициализация дерева\n",
    "        tree = DecisionTreeRegressor(max_depth = 5, random_state = 42)\n",
    "        # Обучение\n",
    "        tree.fit(X_train, s)\n",
    "\n",
    "        # Добавление дерева в список алгоритмов\n",
    "        base_algorithms_list.append(tree)\n",
    "        # Обновление коэффициентов\n",
    "        if coeff_reg == 0.0:\n",
    "            pass\n",
    "        elif coeff_reg == 'iterdec':\n",
    "             coeff_reg = i\n",
    "        else:\n",
    "            coeff_reg = 0.0\n",
    "        coefficients_list.append(0.9/(1.0 + coeff_reg))\n",
    "        # Нахождение вектора смещения, расхождения прогноза с истинными значениям целевой переменной\n",
    "        s = s_i(y_train, gbm_predict(\n",
    "                                 X_train,\n",
    "                                 base_algorithms_list,\n",
    "                                 coefficients_list )\n",
    "                                 )\n",
    "\n",
    "        print('RMSE on train: ', gradboost_rmse(y_train, X_train, base_algorithms_list, coefficients_list))\n",
    "        print('RMSE on test: ', gradboost_rmse(y_test, X_test, base_algorithms_list, coefficients_list))\n",
    "        \n",
    "grad_boosting()"
   ]
  },
  {
   "cell_type": "code",
   "execution_count": null,
   "metadata": {},
   "outputs": [],
   "source": []
  },
  {
   "cell_type": "markdown",
   "metadata": {},
   "source": [
    "## Задание 3\n",
    "\n",
    "Вас может также беспокоить, что двигаясь с постоянным шагом, вблизи минимума ошибки ответы на обучающей выборке меняются слишком резко, перескакивая через минимум. \n",
    "\n",
    "Попробуйте уменьшать вес перед каждым алгоритмом с каждой следующей итерацией по формуле `0.9 / (1.0 + i)`, где `i` - номер итерации (от 0 до 49). Используйте качество работы алгоритма как **ответ в пункте 3**. \n",
    "\n",
    "В реальности часто применяется следующая стратегия выбора шага: как только выбран алгоритм, подберем коэффициент перед ним численным методом оптимизации таким образом, чтобы отклонение от правильных ответов было минимальным. Мы не будем предлагать вам реализовать это для выполнения задания, но рекомендуем попробовать разобраться с такой стратегией и реализовать ее при случае для себя."
   ]
  },
  {
   "cell_type": "code",
   "execution_count": 104,
   "metadata": {},
   "outputs": [
    {
     "name": "stdout",
     "output_type": "stream",
     "text": [
      "Training initial tree\n",
      "RMSE on train:  3.5105268500764284\n",
      "RMSE on test:  4.674470252481672\n",
      "Training tree:2\n",
      "RMSE on train:  2.421141379951146\n",
      "RMSE on test:  4.86124886818998\n",
      "Training tree:3\n",
      "RMSE on train:  1.4860926153959648\n",
      "RMSE on test:  5.21596679588006\n",
      "Training tree:4\n",
      "RMSE on train:  1.3278440125834459\n",
      "RMSE on test:  5.004367210820747\n",
      "Training tree:5\n",
      "RMSE on train:  1.1495411262499613\n",
      "RMSE on test:  4.955071554614163\n",
      "Training tree:6\n",
      "RMSE on train:  0.9278846983813908\n",
      "RMSE on test:  5.116820324600386\n",
      "Training tree:7\n",
      "RMSE on train:  0.84909572327489\n",
      "RMSE on test:  5.121085036438892\n",
      "Training tree:8\n",
      "RMSE on train:  0.7936466044662265\n",
      "RMSE on test:  4.9793017137388995\n",
      "Training tree:9\n",
      "RMSE on train:  0.7181754691605425\n",
      "RMSE on test:  4.978617610403722\n",
      "Training tree:10\n",
      "RMSE on train:  0.6801672624813904\n",
      "RMSE on test:  5.135955510120968\n",
      "Training tree:11\n",
      "RMSE on train:  0.5807474124760632\n",
      "RMSE on test:  5.253787832058132\n",
      "Training tree:12\n",
      "RMSE on train:  0.49169980671930097\n",
      "RMSE on test:  5.242212038098883\n",
      "Training tree:13\n",
      "RMSE on train:  0.4389379942820347\n",
      "RMSE on test:  5.238381213348376\n",
      "Training tree:14\n",
      "RMSE on train:  0.38946292949822503\n",
      "RMSE on test:  5.2518717889162705\n",
      "Training tree:15\n",
      "RMSE on train:  0.3282013135574762\n",
      "RMSE on test:  5.239435190260042\n",
      "Training tree:16\n",
      "RMSE on train:  0.2783785477397287\n",
      "RMSE on test:  5.236913416598625\n",
      "Training tree:17\n",
      "RMSE on train:  0.2581543412741353\n",
      "RMSE on test:  5.2396764227700485\n",
      "Training tree:18\n",
      "RMSE on train:  0.22936337368517068\n",
      "RMSE on test:  5.244158937625763\n",
      "Training tree:19\n",
      "RMSE on train:  0.21436591243325429\n",
      "RMSE on test:  5.238208961399221\n",
      "Training tree:20\n",
      "RMSE on train:  0.18533575314061676\n",
      "RMSE on test:  5.2382903783894585\n",
      "Training tree:21\n",
      "RMSE on train:  0.17376882203786045\n",
      "RMSE on test:  5.2422179264233675\n",
      "Training tree:22\n",
      "RMSE on train:  0.15418055877147513\n",
      "RMSE on test:  5.229304884842231\n",
      "Training tree:23\n",
      "RMSE on train:  0.13243325199554631\n",
      "RMSE on test:  5.234744211792955\n",
      "Training tree:24\n",
      "RMSE on train:  0.11269452565772041\n",
      "RMSE on test:  5.237807505588969\n",
      "Training tree:25\n",
      "RMSE on train:  0.10226103574467385\n",
      "RMSE on test:  5.237706405762109\n",
      "Training tree:26\n",
      "RMSE on train:  0.09209788027894546\n",
      "RMSE on test:  5.243949436628805\n",
      "Training tree:27\n",
      "RMSE on train:  0.07811226054391902\n",
      "RMSE on test:  5.242123778369047\n",
      "Training tree:28\n",
      "RMSE on train:  0.06779896528299573\n",
      "RMSE on test:  5.242590566891565\n",
      "Training tree:29\n",
      "RMSE on train:  0.061728317575063286\n",
      "RMSE on test:  5.241457528048657\n",
      "Training tree:30\n",
      "RMSE on train:  0.05638117302680406\n",
      "RMSE on test:  5.239658704385477\n",
      "Training tree:31\n",
      "RMSE on train:  0.05014185095966825\n",
      "RMSE on test:  5.236222041923255\n",
      "Training tree:32\n",
      "RMSE on train:  0.04233221056099942\n",
      "RMSE on test:  5.238739758993877\n",
      "Training tree:33\n",
      "RMSE on train:  0.037349818920164354\n",
      "RMSE on test:  5.23981612623137\n",
      "Training tree:34\n",
      "RMSE on train:  0.03326473080942775\n",
      "RMSE on test:  5.239485125453601\n",
      "Training tree:35\n",
      "RMSE on train:  0.031509545588346635\n",
      "RMSE on test:  5.236207720563254\n",
      "Training tree:36\n",
      "RMSE on train:  0.028483887320855786\n",
      "RMSE on test:  5.239118596776218\n",
      "Training tree:37\n",
      "RMSE on train:  0.02391547148170151\n",
      "RMSE on test:  5.237916329416046\n",
      "Training tree:38\n",
      "RMSE on train:  0.020891326249404728\n",
      "RMSE on test:  5.236572640055438\n",
      "Training tree:39\n",
      "RMSE on train:  0.01823235334212619\n",
      "RMSE on test:  5.2359324429968535\n",
      "Training tree:40\n",
      "RMSE on train:  0.015692770835976966\n",
      "RMSE on test:  5.2363251849952785\n",
      "Training tree:41\n",
      "RMSE on train:  0.012814405600034452\n",
      "RMSE on test:  5.235995118248773\n",
      "Training tree:42\n",
      "RMSE on train:  0.01118633091220333\n",
      "RMSE on test:  5.236389483599401\n",
      "Training tree:43\n",
      "RMSE on train:  0.00979994073629225\n",
      "RMSE on test:  5.236873241808355\n",
      "Training tree:44\n",
      "RMSE on train:  0.008851145355549933\n",
      "RMSE on test:  5.236386724210425\n",
      "Training tree:45\n",
      "RMSE on train:  0.008461866838741732\n",
      "RMSE on test:  5.236440175388109\n",
      "Training tree:46\n",
      "RMSE on train:  0.007084838839632276\n",
      "RMSE on test:  5.236624093617467\n",
      "Training tree:47\n",
      "RMSE on train:  0.006623615276743167\n",
      "RMSE on test:  5.236045421327262\n",
      "Training tree:48\n",
      "RMSE on train:  0.0060505476383707546\n",
      "RMSE on test:  5.236133420833534\n",
      "Training tree:49\n",
      "RMSE on train:  0.005868024908872185\n",
      "RMSE on test:  5.235667782217289\n",
      "Training tree:50\n",
      "RMSE on train:  0.0051188506864662826\n",
      "RMSE on test:  5.236453649504835\n"
     ]
    }
   ],
   "source": [
    "grad_boosting(coeff_reg = 'iterdec')"
   ]
  },
  {
   "cell_type": "code",
   "execution_count": null,
   "metadata": {
    "collapsed": true
   },
   "outputs": [],
   "source": []
  },
  {
   "cell_type": "markdown",
   "metadata": {},
   "source": [
    "## Задание 4\n",
    "\n",
    "Реализованный вами метод - градиентный бустинг над деревьями - очень популярен в машинном обучении. Он представлен как в самой библиотеке `sklearn`, так и в сторонней библиотеке `XGBoost`, которая имеет свой питоновский интерфейс. На практике `XGBoost` работает заметно лучше `GradientBoostingRegressor` из `sklearn`, но для этого задания вы можете использовать любую реализацию. \n",
    "\n",
    "Исследуйте, переобучается ли градиентный бустинг с ростом числа итераций (и подумайте, почему), а также с ростом глубины деревьев. На основе наблюдений выпишите через пробел номера правильных из приведенных ниже утверждений в порядке возрастания номера (это будет **ответ в п.4**):\n",
    "\n",
    "   1. С увеличением числа деревьев, начиная с некоторого момента, качество работы градиентного бустинга не меняется существенно. **Нет**\n",
    "\n",
    "\n",
    "   2. С увеличением числа деревьев, начиная с некоторого момента, градиентный бустинг начинает переобучаться. **Да**\n",
    "\n",
    "\n",
    "   3. С ростом глубины деревьев, начиная с некоторого момента, качество работы градиентного бустинга на тестовой выборке начинает ухудшаться. **Да**\n",
    "\n",
    "\n",
    "   4. С ростом глубины деревьев, начиная с некоторого момента, качество работы градиентного бустинга перестает существенно изменяться **Нет**"
   ]
  },
  {
   "cell_type": "code",
   "execution_count": 143,
   "metadata": {},
   "outputs": [],
   "source": [
    "from sklearn.ensemble import GradientBoostingRegressor\n",
    "from sklearn.grid_search import GridSearchCV\n",
    "import numpy as np\n",
    "import matplotlib.pyplot as plt\n",
    "%matplotlib inline\n",
    "%config InlineBackend.figure_format = 'retina'"
   ]
  },
  {
   "cell_type": "code",
   "execution_count": 138,
   "metadata": {},
   "outputs": [],
   "source": [
    "def plot_scores(optimizer):\n",
    "    scores = [[item[0]['n_estimators'], \n",
    "               item[1], \n",
    "               (np.sum((item[2]-item[1])**2)/(item[2].size-1))**0.5] for item in optimizer.grid_scores_]\n",
    "    scores = np.array(scores)\n",
    "    plt.semilogx(scores[:,0], scores[:,1])\n",
    "    plt.fill_between(scores[:,0], scores[:,1]-scores[:,2], \n",
    "                                  scores[:,1]+scores[:,2], alpha=0.3)\n",
    "    plt.show()"
   ]
  },
  {
   "cell_type": "code",
   "execution_count": 140,
   "metadata": {},
   "outputs": [],
   "source": [
    "gboost = GradientBoostingRegressor()\n",
    "param_grid = {'n_estimators': [5, 10, 20, 30, 50, 80, 150, 300, 500, 800]}\n",
    "cv = 5"
   ]
  },
  {
   "cell_type": "code",
   "execution_count": 141,
   "metadata": {},
   "outputs": [
    {
     "name": "stdout",
     "output_type": "stream",
     "text": [
      "Fitting 5 folds for each of 10 candidates, totalling 50 fits\n"
     ]
    },
    {
     "name": "stderr",
     "output_type": "stream",
     "text": [
      "[Parallel(n_jobs=1)]: Done  50 out of  50 | elapsed:    4.0s finished\n"
     ]
    },
    {
     "data": {
      "text/plain": [
       "GridSearchCV(cv=5, error_score='raise',\n",
       "       estimator=GradientBoostingRegressor(alpha=0.9, criterion='friedman_mse', init=None,\n",
       "             learning_rate=0.1, loss='ls', max_depth=3, max_features=None,\n",
       "             max_leaf_nodes=None, min_impurity_decrease=0.0,\n",
       "             min_impurity_split=None, min_samples_leaf=1,\n",
       "             min_samples_split=2, min_weight_fraction_leaf=0.0,\n",
       "             n_estimators=100, presort='auto', random_state=None,\n",
       "             subsample=1.0, verbose=0, warm_start=False),\n",
       "       fit_params={}, iid=True, n_jobs=1,\n",
       "       param_grid={'n_estimators': [5, 10, 20, 30, 50, 80, 150, 300, 500, 800]},\n",
       "       pre_dispatch='2*n_jobs', refit=True, scoring=None, verbose=True)"
      ]
     },
     "execution_count": 141,
     "metadata": {},
     "output_type": "execute_result"
    }
   ],
   "source": [
    "optimizer = GridSearchCV(estimator = gboost,\n",
    "                         param_grid = param_grid,\n",
    "                         cv = cv,\n",
    "                         verbose = True)\n",
    "optimizer.fit(X, y)"
   ]
  },
  {
   "cell_type": "code",
   "execution_count": 144,
   "metadata": {},
   "outputs": [
    {
     "data": {
      "image/png": "[encoded data removed]",
      "text/plain": [
       "<Figure size 432x288 with 1 Axes>"
      ]
     },
     "metadata": {
      "image/png": {
       "height": 251,
       "width": 387
      }
     },
     "output_type": "display_data"
    }
   ],
   "source": [
    "plot_scores(optimizer)"
   ]
  },
  {
   "cell_type": "code",
   "execution_count": 160,
   "metadata": {},
   "outputs": [
    {
     "name": "stdout",
     "output_type": "stream",
     "text": [
      "Trees:50|MSE:21.255196006033643\n",
      "Trees:100|MSE:19.976306858051757\n",
      "Trees:150|MSE:19.40916965645844\n",
      "Trees:200|MSE:19.494769771368087\n",
      "Trees:250|MSE:20.417201238316956\n",
      "Trees:300|MSE:18.796506512238576\n",
      "Trees:350|MSE:20.164354203397785\n",
      "Trees:400|MSE:19.699885787057703\n",
      "Trees:450|MSE:19.157232225813186\n",
      "Trees:500|MSE:19.653349833892197\n",
      "Trees:550|MSE:19.77724071574759\n",
      "Trees:600|MSE:19.703514383853605\n",
      "Trees:650|MSE:19.038860258356127\n",
      "Trees:700|MSE:19.140997465116765\n",
      "Trees:750|MSE:19.45116208943234\n",
      "Trees:800|MSE:19.39647690084\n",
      "Trees:850|MSE:20.08011149432955\n",
      "Trees:900|MSE:19.158366090076594\n",
      "Trees:950|MSE:19.843785853754625\n"
     ]
    }
   ],
   "source": [
    "error = []\n",
    "trees = [x for x in range(1,1000) if x%10==0]\n",
    "for param in trees :\n",
    "    gboost = GradientBoostingRegressor(n_estimators = param)\n",
    "    gboost.fit(X_train, y_train) \n",
    "    mse = mean_squared_error(y_test,gboost.predict(X_test))\n",
    "    if param%50 ==0:\n",
    "        print('Trees:%s|MSE:%s'%(param, mse))\n",
    "    else:\n",
    "        pass\n",
    "    error.append(mse) "
   ]
  },
  {
   "cell_type": "code",
   "execution_count": 161,
   "metadata": {},
   "outputs": [
    {
     "data": {
      "image/png": "[encoded data removed]",
      "text/plain": [
       "<Figure size 432x288 with 1 Axes>"
      ]
     },
     "metadata": {
      "image/png": {
       "height": 250,
       "width": 370
      }
     },
     "output_type": "display_data"
    }
   ],
   "source": [
    "plt.plot(trees,error, label = 'GradBoost MSE' )\n",
    "plt.legend()\n",
    "plt.show()"
   ]
  },
  {
   "cell_type": "code",
   "execution_count": null,
   "metadata": {},
   "outputs": [],
   "source": []
  },
  {
   "cell_type": "code",
   "execution_count": 163,
   "metadata": {},
   "outputs": [],
   "source": [
    "error = []\n",
    "depths = [x for x in range(1,100)]\n",
    "for depth in depths :\n",
    "    gboost = GradientBoostingRegressor(n_estimators = 50, max_depth = depth)\n",
    "    gboost.fit(X_train, y_train) \n",
    "    mse = mean_squared_error(y_test,gboost.predict(X_test))\n",
    "    error.append(mse) "
   ]
  },
  {
   "cell_type": "code",
   "execution_count": 164,
   "metadata": {},
   "outputs": [
    {
     "data": {
      "image/png": "[encoded data removed]",
      "text/plain": [
       "<Figure size 432x288 with 1 Axes>"
      ]
     },
     "metadata": {
      "image/png": {
       "height": 250,
       "width": 380
      }
     },
     "output_type": "display_data"
    }
   ],
   "source": [
    "plt.plot(depths ,error, label = 'GradBoost MSE' )\n",
    "plt.legend()\n",
    "plt.show()"
   ]
  },
  {
   "cell_type": "code",
   "execution_count": null,
   "metadata": {},
   "outputs": [],
   "source": []
  },
  {
   "cell_type": "code",
   "execution_count": null,
   "metadata": {},
   "outputs": [],
   "source": []
  },
  {
   "cell_type": "markdown",
   "metadata": {},
   "source": [
    "## Задание 5\n",
    "\n",
    "Сравните получаемое с помощью градиентного бустинга качество с качеством работы линейной регрессии. \n",
    "\n",
    "Для этого обучите `LinearRegression` из `sklearn.linear_model` (с параметрами по умолчанию) на обучающей выборке и оцените для прогнозов полученного алгоритма на тестовой выборке `RMSE`. Полученное качество - ответ в **пункте 5**. \n",
    "\n",
    "В данном примере качество работы простой модели должно было оказаться хуже, но не стоит забывать, что так бывает не всегда. В заданиях к этому курсу вы еще встретите пример обратной ситуации."
   ]
  },
  {
   "cell_type": "code",
   "execution_count": 165,
   "metadata": {},
   "outputs": [],
   "source": [
    "from sklearn.linear_model import LinearRegression"
   ]
  },
  {
   "cell_type": "code",
   "execution_count": 166,
   "metadata": {},
   "outputs": [
    {
     "data": {
      "text/plain": [
       "LinearRegression(copy_X=True, fit_intercept=True, n_jobs=1, normalize=False)"
      ]
     },
     "execution_count": 166,
     "metadata": {},
     "output_type": "execute_result"
    }
   ],
   "source": [
    "linreg = LinearRegression()\n",
    "linreg.fit(X_train, y_train)"
   ]
  },
  {
   "cell_type": "code",
   "execution_count": 168,
   "metadata": {},
   "outputs": [
    {
     "data": {
      "text/plain": [
       "7.848121796479828"
      ]
     },
     "execution_count": 168,
     "metadata": {},
     "output_type": "execute_result"
    }
   ],
   "source": [
    "mean_squared_error(y_test,linreg.predict(X_test))**0.5"
   ]
  },
  {
   "cell_type": "code",
   "execution_count": 169,
   "metadata": {},
   "outputs": [],
   "source": [
    "def write_answer(text, name):\n",
    "    with open(str(name), \"w\") as fout:\n",
    "        fout.write(str(text))"
   ]
  },
  {
   "cell_type": "code",
   "execution_count": 170,
   "metadata": {},
   "outputs": [],
   "source": [
    "write_answer(5.455472074527531 ,'gboost_ans2.txt')"
   ]
  },
  {
   "cell_type": "code",
   "execution_count": 171,
   "metadata": {},
   "outputs": [],
   "source": [
    "write_answer(5.236453649504835 ,'gboost_ans3.txt')"
   ]
  },
  {
   "cell_type": "code",
   "execution_count": 174,
   "metadata": {},
   "outputs": [],
   "source": [
    "write_answer('2 3' ,'gboost_ans4.txt')"
   ]
  },
  {
   "cell_type": "code",
   "execution_count": 173,
   "metadata": {},
   "outputs": [],
   "source": [
    "write_answer(7.848121796479828 ,'gboost_ans5.txt')"
   ]
  },
  {
   "cell_type": "code",
   "execution_count": null,
   "metadata": {},
   "outputs": [],
   "source": []
  }
 ],
 "metadata": {
  "kernelspec": {
   "display_name": "Python 3",
   "language": "python",
   "name": "python3"
  },
  "language_info": {
   "codemirror_mode": {
    "name": "ipython",
    "version": 3
   },
   "file_extension": ".py",
   "mimetype": "text/x-python",
   "name": "python",
   "nbconvert_exporter": "python",
   "pygments_lexer": "ipython3",
   "version": "3.6.4"
  }
 },
 "nbformat": 4,
 "nbformat_minor": 1
}
