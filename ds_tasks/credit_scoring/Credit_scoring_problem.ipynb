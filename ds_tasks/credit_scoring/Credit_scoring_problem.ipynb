{
 "cells": [
  {
   "cell_type": "markdown",
   "metadata": {},
   "source": [
    "### Анализ данных в задаче кредитного скоринга"
   ]
  },
  {
   "cell_type": "code",
   "execution_count": 1,
   "metadata": {},
   "outputs": [],
   "source": [
    "import os\n",
    "import tqdm\n",
    "import scipy\n",
    "import scipy.stats as st\n",
    "import statsmodels as stm\n",
    "import numpy as np\n",
    "import pandas as pd\n",
    "import seaborn as sns\n",
    "import multiprocessing as mp\n",
    "import matplotlib.pyplot as plt\n",
    "\n",
    "from scipy import stats\n",
    "\n",
    "%matplotlib inline\n",
    "%config InlineBackend.figure_format = 'retina'\n",
    "sns.set()"
   ]
  },
  {
   "cell_type": "code",
   "execution_count": 2,
   "metadata": {},
   "outputs": [
    {
     "name": "stdout",
     "output_type": "stream",
     "text": [
      "CPython 3.7.6\n",
      "IPython 7.13.0\n",
      "\n",
      "scipy 1.4.1\n",
      "statsmodels 0.11.1\n",
      "numpy 1.18.2\n",
      "pandas 1.0.3\n",
      "matplotlib 3.2.1\n",
      "seaborn 0.10.0\n"
     ]
    }
   ],
   "source": [
    "# Версии использованных пакетов.\n",
    "%load_ext watermark\n",
    "%watermark -v -p scipy,statsmodels,numpy,pandas,matplotlib,seaborn"
   ]
  },
  {
   "cell_type": "markdown",
   "metadata": {},
   "source": [
    "__Описание данных__\n",
    "\n",
    "* LIMIT_BAL: размер кредитного лимита (в том числе и на семью клиента)\n",
    "* SEX: пол клиента (1 = мужской, 2 = женский )\n",
    "* EDUCATION: образование (0 = доктор, 1 = магистр; 2 = бакалавр; 3 = выпускник школы; 4 = начальное образование; 5= прочее; 6 = нет данных ).\n",
    "* MARRIAGE: (0 = отказываюсь отвечать; 1 = замужем/женат; 2 = холост; 3 = нет данных).\n",
    "* AGE: возраст в годах\n",
    "* PAY_0 - PAY_6 : История прошлых платежей по кредиту. PAY_6 - платеж в апреле, ... Pay_0 - платеж в сентябре. Платеж = (0 = исправный платеж, 1=задержка в один месяц, 2=задержка в 2 месяца ...)\n",
    "* BILL_AMT1 - BILL_AMT6: задолженность, BILL_AMT6 - на апрель, BILL_AMT1 - на сентябрь\n",
    "* PAY_AMT1 - PAY_AMT6: сумма уплаченная в PAY_AMT6 - апреле, ..., PAY_AMT1 - сентябре\n",
    "* default - индикатор невозврата денежных средств\n",
    "\n",
    "__Описание задания__\n",
    "\n",
    "1. Размер кредитного лимита (LIMIT_BAL). В двух группах, тех людей, кто вернул кредит (default = 0) и тех, кто его не вернул (default = 1) проверьте гипотезы: a) о равенстве медианных значений кредитного лимита с помощью подходящей интервальной оценки b) о равенстве распределений с помощью одного из подходящих непараметрических критериев проверки равенства средних. Значимы ли полученные результаты с практической точки зрения ?\n",
    "    \n",
    "    \n",
    "2. Пол (SEX): Проверьте гипотезу о том, что гендерный состав группы людей вернувших и не вернувших кредит отличается. Хорошо, если вы предоставите несколько различных решений этой задачи (с помощью доверительного интервала и подходящего статистического критерия)\n",
    "    \n",
    "    \n",
    "3. Образование (EDUCATION): Проверьте гипотезу о том, что образование не влияет на то, вернет ли человек долг. Предложите способ наглядного представления разницы в ожидаемых и наблюдаемых значениях количества человек вернувших и не вернувших долг. Например, составьте таблицу сопряженности \"образование\" на \"возврат долга\", где значением ячейки была бы разность между наблюдаемым и ожидаемым количеством человек. Как бы вы предложили модифицировать таблицу так, чтобы привести значения ячеек к одному масштабу не потеряв в интерпретируемости ? Наличие какого образования является наилучшим индикатором того, что человек отдаст долг ? наоборт, не отдаст долг ?\n",
    "\n",
    "\n",
    "4. Семейное положение (MARRIAGE): Проверьте, как связан семейный статус с индикатором дефолта: нужно предложить меру, по которой можно измерить возможную связь этих переменных и посчитать ее значение.\n",
    "\n",
    "\n",
    "5. Возраст (AGE): Относительно двух групп людей вернувших и не вернувших кредит проверьте следующие гипотезы: a) о равенстве медианных значений возрастов людей b) о равенстве распределений с помощью одного из подходящих непараметрических критериев проверки равенства средних. Значимы ли полученные результаты с практической точки зрения ?\n",
    "\n",
    "\n",
    "__Важно:__\n",
    "\n",
    "* Каждая задача начинается с визуальной аналитики данных с разбивкой по параметру default.\n",
    "* Обусловлена применимость статистического критерия.\n",
    "* При каждом использовании любого критерия необходимо указать, какая проверяется гипотеза, против какой альтернативы, чему равен достигаемый уровень значимости, принимается или отвергается нулевая гипотеза на уровне значимости 0.05. Если задача позволяет, нужно оценить размер эффекта и предположить, имеет ли этот результат практическую значимость. \n",
    "\n",
    "---"
   ]
  },
  {
   "cell_type": "markdown",
   "metadata": {},
   "source": [
    "Чтение данных"
   ]
  },
  {
   "cell_type": "code",
   "execution_count": 3,
   "metadata": {},
   "outputs": [
    {
     "data": {
      "text/html": [
       "<div>\n",
       "<style scoped>\n",
       "    .dataframe tbody tr th:only-of-type {\n",
       "        vertical-align: middle;\n",
       "    }\n",
       "\n",
       "    .dataframe tbody tr th {\n",
       "        vertical-align: top;\n",
       "    }\n",
       "\n",
       "    .dataframe thead th {\n",
       "        text-align: right;\n",
       "    }\n",
       "</style>\n",
       "<table border=\"1\" class=\"dataframe\">\n",
       "  <thead>\n",
       "    <tr style=\"text-align: right;\">\n",
       "      <th></th>\n",
       "      <th>ID</th>\n",
       "      <th>LIMIT_BAL</th>\n",
       "      <th>SEX</th>\n",
       "      <th>EDUCATION</th>\n",
       "      <th>MARRIAGE</th>\n",
       "      <th>AGE</th>\n",
       "      <th>PAY_0</th>\n",
       "      <th>PAY_2</th>\n",
       "      <th>PAY_3</th>\n",
       "      <th>PAY_4</th>\n",
       "      <th>...</th>\n",
       "      <th>BILL_AMT4</th>\n",
       "      <th>BILL_AMT5</th>\n",
       "      <th>BILL_AMT6</th>\n",
       "      <th>PAY_AMT1</th>\n",
       "      <th>PAY_AMT2</th>\n",
       "      <th>PAY_AMT3</th>\n",
       "      <th>PAY_AMT4</th>\n",
       "      <th>PAY_AMT5</th>\n",
       "      <th>PAY_AMT6</th>\n",
       "      <th>default</th>\n",
       "    </tr>\n",
       "  </thead>\n",
       "  <tbody>\n",
       "    <tr>\n",
       "      <th>0</th>\n",
       "      <td>1</td>\n",
       "      <td>20000</td>\n",
       "      <td>2</td>\n",
       "      <td>2</td>\n",
       "      <td>1</td>\n",
       "      <td>24</td>\n",
       "      <td>2</td>\n",
       "      <td>2</td>\n",
       "      <td>0</td>\n",
       "      <td>0</td>\n",
       "      <td>...</td>\n",
       "      <td>0</td>\n",
       "      <td>0</td>\n",
       "      <td>0</td>\n",
       "      <td>0</td>\n",
       "      <td>689</td>\n",
       "      <td>0</td>\n",
       "      <td>0</td>\n",
       "      <td>0</td>\n",
       "      <td>0</td>\n",
       "      <td>1</td>\n",
       "    </tr>\n",
       "    <tr>\n",
       "      <th>1</th>\n",
       "      <td>2</td>\n",
       "      <td>120000</td>\n",
       "      <td>2</td>\n",
       "      <td>2</td>\n",
       "      <td>2</td>\n",
       "      <td>26</td>\n",
       "      <td>0</td>\n",
       "      <td>2</td>\n",
       "      <td>0</td>\n",
       "      <td>0</td>\n",
       "      <td>...</td>\n",
       "      <td>3272</td>\n",
       "      <td>3455</td>\n",
       "      <td>3261</td>\n",
       "      <td>0</td>\n",
       "      <td>1000</td>\n",
       "      <td>1000</td>\n",
       "      <td>1000</td>\n",
       "      <td>0</td>\n",
       "      <td>2000</td>\n",
       "      <td>1</td>\n",
       "    </tr>\n",
       "    <tr>\n",
       "      <th>2</th>\n",
       "      <td>3</td>\n",
       "      <td>90000</td>\n",
       "      <td>2</td>\n",
       "      <td>2</td>\n",
       "      <td>2</td>\n",
       "      <td>34</td>\n",
       "      <td>0</td>\n",
       "      <td>0</td>\n",
       "      <td>0</td>\n",
       "      <td>0</td>\n",
       "      <td>...</td>\n",
       "      <td>14331</td>\n",
       "      <td>14948</td>\n",
       "      <td>15549</td>\n",
       "      <td>1518</td>\n",
       "      <td>1500</td>\n",
       "      <td>1000</td>\n",
       "      <td>1000</td>\n",
       "      <td>1000</td>\n",
       "      <td>5000</td>\n",
       "      <td>0</td>\n",
       "    </tr>\n",
       "    <tr>\n",
       "      <th>3</th>\n",
       "      <td>4</td>\n",
       "      <td>50000</td>\n",
       "      <td>2</td>\n",
       "      <td>2</td>\n",
       "      <td>1</td>\n",
       "      <td>37</td>\n",
       "      <td>0</td>\n",
       "      <td>0</td>\n",
       "      <td>0</td>\n",
       "      <td>0</td>\n",
       "      <td>...</td>\n",
       "      <td>28314</td>\n",
       "      <td>28959</td>\n",
       "      <td>29547</td>\n",
       "      <td>2000</td>\n",
       "      <td>2019</td>\n",
       "      <td>1200</td>\n",
       "      <td>1100</td>\n",
       "      <td>1069</td>\n",
       "      <td>1000</td>\n",
       "      <td>0</td>\n",
       "    </tr>\n",
       "    <tr>\n",
       "      <th>4</th>\n",
       "      <td>5</td>\n",
       "      <td>50000</td>\n",
       "      <td>1</td>\n",
       "      <td>2</td>\n",
       "      <td>1</td>\n",
       "      <td>57</td>\n",
       "      <td>0</td>\n",
       "      <td>0</td>\n",
       "      <td>0</td>\n",
       "      <td>0</td>\n",
       "      <td>...</td>\n",
       "      <td>20940</td>\n",
       "      <td>19146</td>\n",
       "      <td>19131</td>\n",
       "      <td>2000</td>\n",
       "      <td>36681</td>\n",
       "      <td>10000</td>\n",
       "      <td>9000</td>\n",
       "      <td>689</td>\n",
       "      <td>679</td>\n",
       "      <td>0</td>\n",
       "    </tr>\n",
       "  </tbody>\n",
       "</table>\n",
       "<p>5 rows × 25 columns</p>\n",
       "</div>"
      ],
      "text/plain": [
       "   ID  LIMIT_BAL  SEX  EDUCATION  MARRIAGE  AGE  PAY_0  PAY_2  PAY_3  PAY_4  \\\n",
       "0   1      20000    2          2         1   24      2      2      0      0   \n",
       "1   2     120000    2          2         2   26      0      2      0      0   \n",
       "2   3      90000    2          2         2   34      0      0      0      0   \n",
       "3   4      50000    2          2         1   37      0      0      0      0   \n",
       "4   5      50000    1          2         1   57      0      0      0      0   \n",
       "\n",
       "   ...  BILL_AMT4  BILL_AMT5  BILL_AMT6  PAY_AMT1  PAY_AMT2  PAY_AMT3  \\\n",
       "0  ...          0          0          0         0       689         0   \n",
       "1  ...       3272       3455       3261         0      1000      1000   \n",
       "2  ...      14331      14948      15549      1518      1500      1000   \n",
       "3  ...      28314      28959      29547      2000      2019      1200   \n",
       "4  ...      20940      19146      19131      2000     36681     10000   \n",
       "\n",
       "   PAY_AMT4  PAY_AMT5  PAY_AMT6  default  \n",
       "0         0         0         0        1  \n",
       "1      1000         0      2000        1  \n",
       "2      1000      1000      5000        0  \n",
       "3      1100      1069      1000        0  \n",
       "4      9000       689       679        0  \n",
       "\n",
       "[5 rows x 25 columns]"
      ]
     },
     "execution_count": 3,
     "metadata": {},
     "output_type": "execute_result"
    }
   ],
   "source": [
    "df = pd.read_csv('credit_card_default_analysis.csv')\n",
    "df.head()"
   ]
  },
  {
   "cell_type": "code",
   "execution_count": 4,
   "metadata": {},
   "outputs": [
    {
     "name": "stdout",
     "output_type": "stream",
     "text": [
      "<class 'pandas.core.frame.DataFrame'>\n",
      "RangeIndex: 30000 entries, 0 to 29999\n",
      "Data columns (total 25 columns):\n",
      " #   Column     Non-Null Count  Dtype\n",
      "---  ------     --------------  -----\n",
      " 0   ID         30000 non-null  int64\n",
      " 1   LIMIT_BAL  30000 non-null  int64\n",
      " 2   SEX        30000 non-null  int64\n",
      " 3   EDUCATION  30000 non-null  int64\n",
      " 4   MARRIAGE   30000 non-null  int64\n",
      " 5   AGE        30000 non-null  int64\n",
      " 6   PAY_0      30000 non-null  int64\n",
      " 7   PAY_2      30000 non-null  int64\n",
      " 8   PAY_3      30000 non-null  int64\n",
      " 9   PAY_4      30000 non-null  int64\n",
      " 10  PAY_5      30000 non-null  int64\n",
      " 11  PAY_6      30000 non-null  int64\n",
      " 12  BILL_AMT1  30000 non-null  int64\n",
      " 13  BILL_AMT2  30000 non-null  int64\n",
      " 14  BILL_AMT3  30000 non-null  int64\n",
      " 15  BILL_AMT4  30000 non-null  int64\n",
      " 16  BILL_AMT5  30000 non-null  int64\n",
      " 17  BILL_AMT6  30000 non-null  int64\n",
      " 18  PAY_AMT1   30000 non-null  int64\n",
      " 19  PAY_AMT2   30000 non-null  int64\n",
      " 20  PAY_AMT3   30000 non-null  int64\n",
      " 21  PAY_AMT4   30000 non-null  int64\n",
      " 22  PAY_AMT5   30000 non-null  int64\n",
      " 23  PAY_AMT6   30000 non-null  int64\n",
      " 24  default    30000 non-null  int64\n",
      "dtypes: int64(25)\n",
      "memory usage: 5.7 MB\n"
     ]
    }
   ],
   "source": [
    "df.info()"
   ]
  },
  {
   "cell_type": "code",
   "execution_count": 5,
   "metadata": {},
   "outputs": [
    {
     "data": {
      "text/html": [
       "<div>\n",
       "<style scoped>\n",
       "    .dataframe tbody tr th:only-of-type {\n",
       "        vertical-align: middle;\n",
       "    }\n",
       "\n",
       "    .dataframe tbody tr th {\n",
       "        vertical-align: top;\n",
       "    }\n",
       "\n",
       "    .dataframe thead th {\n",
       "        text-align: right;\n",
       "    }\n",
       "</style>\n",
       "<table border=\"1\" class=\"dataframe\">\n",
       "  <thead>\n",
       "    <tr style=\"text-align: right;\">\n",
       "      <th></th>\n",
       "      <th>ID</th>\n",
       "      <th>LIMIT_BAL</th>\n",
       "      <th>SEX</th>\n",
       "      <th>EDUCATION</th>\n",
       "      <th>MARRIAGE</th>\n",
       "      <th>AGE</th>\n",
       "      <th>PAY_0</th>\n",
       "      <th>PAY_2</th>\n",
       "      <th>PAY_3</th>\n",
       "      <th>PAY_4</th>\n",
       "      <th>...</th>\n",
       "      <th>BILL_AMT4</th>\n",
       "      <th>BILL_AMT5</th>\n",
       "      <th>BILL_AMT6</th>\n",
       "      <th>PAY_AMT1</th>\n",
       "      <th>PAY_AMT2</th>\n",
       "      <th>PAY_AMT3</th>\n",
       "      <th>PAY_AMT4</th>\n",
       "      <th>PAY_AMT5</th>\n",
       "      <th>PAY_AMT6</th>\n",
       "      <th>default</th>\n",
       "    </tr>\n",
       "  </thead>\n",
       "  <tbody>\n",
       "    <tr>\n",
       "      <th>count</th>\n",
       "      <td>30000.000000</td>\n",
       "      <td>30000.000000</td>\n",
       "      <td>30000.000000</td>\n",
       "      <td>30000.000000</td>\n",
       "      <td>30000.000000</td>\n",
       "      <td>30000.000000</td>\n",
       "      <td>30000.000000</td>\n",
       "      <td>30000.000000</td>\n",
       "      <td>30000.000000</td>\n",
       "      <td>30000.000000</td>\n",
       "      <td>...</td>\n",
       "      <td>30000.000000</td>\n",
       "      <td>30000.000000</td>\n",
       "      <td>30000.000000</td>\n",
       "      <td>30000.000000</td>\n",
       "      <td>3.000000e+04</td>\n",
       "      <td>30000.00000</td>\n",
       "      <td>30000.000000</td>\n",
       "      <td>30000.000000</td>\n",
       "      <td>30000.000000</td>\n",
       "      <td>30000.000000</td>\n",
       "    </tr>\n",
       "    <tr>\n",
       "      <th>mean</th>\n",
       "      <td>15000.500000</td>\n",
       "      <td>167484.322667</td>\n",
       "      <td>1.603733</td>\n",
       "      <td>1.853133</td>\n",
       "      <td>1.551867</td>\n",
       "      <td>35.485500</td>\n",
       "      <td>0.356767</td>\n",
       "      <td>0.320033</td>\n",
       "      <td>0.304067</td>\n",
       "      <td>0.258767</td>\n",
       "      <td>...</td>\n",
       "      <td>43262.948967</td>\n",
       "      <td>40311.400967</td>\n",
       "      <td>38871.760400</td>\n",
       "      <td>5663.580500</td>\n",
       "      <td>5.921163e+03</td>\n",
       "      <td>5225.68150</td>\n",
       "      <td>4826.076867</td>\n",
       "      <td>4799.387633</td>\n",
       "      <td>5215.502567</td>\n",
       "      <td>0.221200</td>\n",
       "    </tr>\n",
       "    <tr>\n",
       "      <th>std</th>\n",
       "      <td>8660.398374</td>\n",
       "      <td>129747.661567</td>\n",
       "      <td>0.489129</td>\n",
       "      <td>0.790349</td>\n",
       "      <td>0.521970</td>\n",
       "      <td>9.217904</td>\n",
       "      <td>0.760594</td>\n",
       "      <td>0.801727</td>\n",
       "      <td>0.790589</td>\n",
       "      <td>0.761113</td>\n",
       "      <td>...</td>\n",
       "      <td>64332.856134</td>\n",
       "      <td>60797.155770</td>\n",
       "      <td>59554.107537</td>\n",
       "      <td>16563.280354</td>\n",
       "      <td>2.304087e+04</td>\n",
       "      <td>17606.96147</td>\n",
       "      <td>15666.159744</td>\n",
       "      <td>15278.305679</td>\n",
       "      <td>17777.465775</td>\n",
       "      <td>0.415062</td>\n",
       "    </tr>\n",
       "    <tr>\n",
       "      <th>min</th>\n",
       "      <td>1.000000</td>\n",
       "      <td>10000.000000</td>\n",
       "      <td>1.000000</td>\n",
       "      <td>0.000000</td>\n",
       "      <td>0.000000</td>\n",
       "      <td>21.000000</td>\n",
       "      <td>0.000000</td>\n",
       "      <td>0.000000</td>\n",
       "      <td>0.000000</td>\n",
       "      <td>0.000000</td>\n",
       "      <td>...</td>\n",
       "      <td>-170000.000000</td>\n",
       "      <td>-81334.000000</td>\n",
       "      <td>-339603.000000</td>\n",
       "      <td>0.000000</td>\n",
       "      <td>0.000000e+00</td>\n",
       "      <td>0.00000</td>\n",
       "      <td>0.000000</td>\n",
       "      <td>0.000000</td>\n",
       "      <td>0.000000</td>\n",
       "      <td>0.000000</td>\n",
       "    </tr>\n",
       "    <tr>\n",
       "      <th>25%</th>\n",
       "      <td>7500.750000</td>\n",
       "      <td>50000.000000</td>\n",
       "      <td>1.000000</td>\n",
       "      <td>1.000000</td>\n",
       "      <td>1.000000</td>\n",
       "      <td>28.000000</td>\n",
       "      <td>0.000000</td>\n",
       "      <td>0.000000</td>\n",
       "      <td>0.000000</td>\n",
       "      <td>0.000000</td>\n",
       "      <td>...</td>\n",
       "      <td>2326.750000</td>\n",
       "      <td>1763.000000</td>\n",
       "      <td>1256.000000</td>\n",
       "      <td>1000.000000</td>\n",
       "      <td>8.330000e+02</td>\n",
       "      <td>390.00000</td>\n",
       "      <td>296.000000</td>\n",
       "      <td>252.500000</td>\n",
       "      <td>117.750000</td>\n",
       "      <td>0.000000</td>\n",
       "    </tr>\n",
       "    <tr>\n",
       "      <th>50%</th>\n",
       "      <td>15000.500000</td>\n",
       "      <td>140000.000000</td>\n",
       "      <td>2.000000</td>\n",
       "      <td>2.000000</td>\n",
       "      <td>2.000000</td>\n",
       "      <td>34.000000</td>\n",
       "      <td>0.000000</td>\n",
       "      <td>0.000000</td>\n",
       "      <td>0.000000</td>\n",
       "      <td>0.000000</td>\n",
       "      <td>...</td>\n",
       "      <td>19052.000000</td>\n",
       "      <td>18104.500000</td>\n",
       "      <td>17071.000000</td>\n",
       "      <td>2100.000000</td>\n",
       "      <td>2.009000e+03</td>\n",
       "      <td>1800.00000</td>\n",
       "      <td>1500.000000</td>\n",
       "      <td>1500.000000</td>\n",
       "      <td>1500.000000</td>\n",
       "      <td>0.000000</td>\n",
       "    </tr>\n",
       "    <tr>\n",
       "      <th>75%</th>\n",
       "      <td>22500.250000</td>\n",
       "      <td>240000.000000</td>\n",
       "      <td>2.000000</td>\n",
       "      <td>2.000000</td>\n",
       "      <td>2.000000</td>\n",
       "      <td>41.000000</td>\n",
       "      <td>0.000000</td>\n",
       "      <td>0.000000</td>\n",
       "      <td>0.000000</td>\n",
       "      <td>0.000000</td>\n",
       "      <td>...</td>\n",
       "      <td>54506.000000</td>\n",
       "      <td>50190.500000</td>\n",
       "      <td>49198.250000</td>\n",
       "      <td>5006.000000</td>\n",
       "      <td>5.000000e+03</td>\n",
       "      <td>4505.00000</td>\n",
       "      <td>4013.250000</td>\n",
       "      <td>4031.500000</td>\n",
       "      <td>4000.000000</td>\n",
       "      <td>0.000000</td>\n",
       "    </tr>\n",
       "    <tr>\n",
       "      <th>max</th>\n",
       "      <td>30000.000000</td>\n",
       "      <td>1000000.000000</td>\n",
       "      <td>2.000000</td>\n",
       "      <td>6.000000</td>\n",
       "      <td>3.000000</td>\n",
       "      <td>79.000000</td>\n",
       "      <td>8.000000</td>\n",
       "      <td>8.000000</td>\n",
       "      <td>8.000000</td>\n",
       "      <td>8.000000</td>\n",
       "      <td>...</td>\n",
       "      <td>891586.000000</td>\n",
       "      <td>927171.000000</td>\n",
       "      <td>961664.000000</td>\n",
       "      <td>873552.000000</td>\n",
       "      <td>1.684259e+06</td>\n",
       "      <td>896040.00000</td>\n",
       "      <td>621000.000000</td>\n",
       "      <td>426529.000000</td>\n",
       "      <td>528666.000000</td>\n",
       "      <td>1.000000</td>\n",
       "    </tr>\n",
       "  </tbody>\n",
       "</table>\n",
       "<p>8 rows × 25 columns</p>\n",
       "</div>"
      ],
      "text/plain": [
       "                 ID       LIMIT_BAL           SEX     EDUCATION      MARRIAGE  \\\n",
       "count  30000.000000    30000.000000  30000.000000  30000.000000  30000.000000   \n",
       "mean   15000.500000   167484.322667      1.603733      1.853133      1.551867   \n",
       "std     8660.398374   129747.661567      0.489129      0.790349      0.521970   \n",
       "min        1.000000    10000.000000      1.000000      0.000000      0.000000   \n",
       "25%     7500.750000    50000.000000      1.000000      1.000000      1.000000   \n",
       "50%    15000.500000   140000.000000      2.000000      2.000000      2.000000   \n",
       "75%    22500.250000   240000.000000      2.000000      2.000000      2.000000   \n",
       "max    30000.000000  1000000.000000      2.000000      6.000000      3.000000   \n",
       "\n",
       "                AGE         PAY_0         PAY_2         PAY_3         PAY_4  \\\n",
       "count  30000.000000  30000.000000  30000.000000  30000.000000  30000.000000   \n",
       "mean      35.485500      0.356767      0.320033      0.304067      0.258767   \n",
       "std        9.217904      0.760594      0.801727      0.790589      0.761113   \n",
       "min       21.000000      0.000000      0.000000      0.000000      0.000000   \n",
       "25%       28.000000      0.000000      0.000000      0.000000      0.000000   \n",
       "50%       34.000000      0.000000      0.000000      0.000000      0.000000   \n",
       "75%       41.000000      0.000000      0.000000      0.000000      0.000000   \n",
       "max       79.000000      8.000000      8.000000      8.000000      8.000000   \n",
       "\n",
       "       ...      BILL_AMT4      BILL_AMT5      BILL_AMT6       PAY_AMT1  \\\n",
       "count  ...   30000.000000   30000.000000   30000.000000   30000.000000   \n",
       "mean   ...   43262.948967   40311.400967   38871.760400    5663.580500   \n",
       "std    ...   64332.856134   60797.155770   59554.107537   16563.280354   \n",
       "min    ... -170000.000000  -81334.000000 -339603.000000       0.000000   \n",
       "25%    ...    2326.750000    1763.000000    1256.000000    1000.000000   \n",
       "50%    ...   19052.000000   18104.500000   17071.000000    2100.000000   \n",
       "75%    ...   54506.000000   50190.500000   49198.250000    5006.000000   \n",
       "max    ...  891586.000000  927171.000000  961664.000000  873552.000000   \n",
       "\n",
       "           PAY_AMT2      PAY_AMT3       PAY_AMT4       PAY_AMT5  \\\n",
       "count  3.000000e+04   30000.00000   30000.000000   30000.000000   \n",
       "mean   5.921163e+03    5225.68150    4826.076867    4799.387633   \n",
       "std    2.304087e+04   17606.96147   15666.159744   15278.305679   \n",
       "min    0.000000e+00       0.00000       0.000000       0.000000   \n",
       "25%    8.330000e+02     390.00000     296.000000     252.500000   \n",
       "50%    2.009000e+03    1800.00000    1500.000000    1500.000000   \n",
       "75%    5.000000e+03    4505.00000    4013.250000    4031.500000   \n",
       "max    1.684259e+06  896040.00000  621000.000000  426529.000000   \n",
       "\n",
       "            PAY_AMT6       default  \n",
       "count   30000.000000  30000.000000  \n",
       "mean     5215.502567      0.221200  \n",
       "std     17777.465775      0.415062  \n",
       "min         0.000000      0.000000  \n",
       "25%       117.750000      0.000000  \n",
       "50%      1500.000000      0.000000  \n",
       "75%      4000.000000      0.000000  \n",
       "max    528666.000000      1.000000  \n",
       "\n",
       "[8 rows x 25 columns]"
      ]
     },
     "execution_count": 5,
     "metadata": {},
     "output_type": "execute_result"
    }
   ],
   "source": [
    "df.describe()"
   ]
  },
  {
   "cell_type": "code",
   "execution_count": 6,
   "metadata": {},
   "outputs": [
    {
     "data": {
      "text/plain": [
       "0    23364\n",
       "1     6636\n",
       "Name: default, dtype: int64"
      ]
     },
     "execution_count": 6,
     "metadata": {},
     "output_type": "execute_result"
    }
   ],
   "source": [
    "df['default'].value_counts()"
   ]
  },
  {
   "cell_type": "markdown",
   "metadata": {},
   "source": [
    "Зададим уровень значимость alpha по-умолчанию."
   ]
  },
  {
   "cell_type": "code",
   "execution_count": 7,
   "metadata": {},
   "outputs": [],
   "source": [
    "alpha = 0.05"
   ]
  },
  {
   "cell_type": "markdown",
   "metadata": {},
   "source": [
    "__Задача 1.__\n",
    "Размер кредитного лимита (`LIMIT_BAL`). В двух группах, тех людей, кто вернул кредит (default = 0) и тех, кто его не вернул (default = 1) проверьте гипотезы: \n",
    " * a) о равенстве медианных значений кредитного лимита с помощью подходящей интервальной оценки;\n",
    " * b) о равенстве распределений с помощью одного из подходящих непараметрических критериев проверки равенства средних.\n",
    " \n",
    "Значимы ли полученные результаты с практической точки зрения ?"
   ]
  },
  {
   "cell_type": "code",
   "execution_count": 8,
   "metadata": {},
   "outputs": [],
   "source": [
    "def plot_grouped_feature(df, col_name, group, label_name, figsize=(12,5)):\n",
    "    \"\"\"\n",
    "    Нарисовать kernel density estimation (KDE) графики распределения признака по бинарному показателю,\n",
    "    а также ящики с усами.\n",
    "    \n",
    "    Arguments:\n",
    "            df: pandas DataFrame\n",
    "            col_name: название бинарного признака\n",
    "            group: группа агрегации признака\n",
    "            label_name:  подпись\n",
    "            figsize: размер графика\n",
    "    \n",
    "    Returns: None\n",
    "    \"\"\"\n",
    "    \n",
    "    fig, axes = plt.subplots(nrows=1, ncols=2, figsize=figsize)\n",
    "    _alpha = 0.6\n",
    "\n",
    "    plt.suptitle(f'Распределение признака: {col_name}')\n",
    "    sns.kdeplot(df.loc[df[group] == 0, col_name], color= 'green', label=f'{label_name}: 0',\n",
    "                ax=axes[0], alpha=_alpha)\n",
    "    sns.kdeplot(df.loc[df[group] == 1, col_name], color= 'blue', label=f'{label_name}: 1', \n",
    "                ax=axes[0], alpha=_alpha)\n",
    "    \n",
    "    sns.boxplot(x=df[group], y=df[col_name], palette =['green', 'blue'],\n",
    "                ax=axes[1],  boxprops=dict(alpha=_alpha))\n",
    "    plt.xlabel(f'{label_name} ({group})')"
   ]
  },
  {
   "cell_type": "code",
   "execution_count": 9,
   "metadata": {},
   "outputs": [
    {
     "data": {
      "image/png": "[encoded data removed]",
      "text/plain": [
       "<Figure size 864x360 with 2 Axes>"
      ]
     },
     "metadata": {
      "image/png": {
       "height": 357,
       "width": 699
      }
     },
     "output_type": "display_data"
    }
   ],
   "source": [
    "plot_grouped_feature(df, 'LIMIT_BAL', 'default', 'Индикатор невозврата')"
   ]
  },
  {
   "cell_type": "markdown",
   "metadata": {},
   "source": [
    "Из графиков можно видеть, что медиана кредитного лимита `LIMIT_BAL` для группы клиентов, имеющих невовзрат денежных средств, ниже, чем у группы без возврата. В целом эта закономерность видится адекватной. У людей с меньшим доходом и большим риском проблем с возвратами кредитов меньше возможностей получить дополнительную кредитную денежную подушку. "
   ]
  },
  {
   "cell_type": "markdown",
   "metadata": {},
   "source": [
    "__a)__\n",
    "Проведем интервальную оценку медианы с помощью бутстрепа. Для этого сгенерируем из выборки данных по группам default=1 и default=0 псевдовыборки с возвращением. Для каждой пары псевдовыборок расчитаем разницу их медиан и рассмотрим распределение разности медиан для сгенерированных псевдовыборок."
   ]
  },
  {
   "cell_type": "code",
   "execution_count": 10,
   "metadata": {},
   "outputs": [],
   "source": [
    "def get_bootstrap_samples(data, n_samples):\n",
    "    indices = np.random.randint(0, len(data), (n_samples, len(data)))\n",
    "    samples = data[indices]\n",
    "    return samples"
   ]
  },
  {
   "cell_type": "code",
   "execution_count": 11,
   "metadata": {},
   "outputs": [],
   "source": [
    "def stat_intervals(stat, alpha):\n",
    "    boundaries = np.percentile(stat, [100 * alpha / 2., 100 * (1 - alpha / 2.)])\n",
    "    return boundaries"
   ]
  },
  {
   "cell_type": "code",
   "execution_count": 12,
   "metadata": {},
   "outputs": [],
   "source": [
    "# Для а) бутстреп и разница медиан\n",
    "# Для б) критерий Мана-Уитни"
   ]
  },
  {
   "cell_type": "code",
   "execution_count": 13,
   "metadata": {},
   "outputs": [],
   "source": [
    "limit_ball_default_1 = df[df['default']==1]['LIMIT_BAL'].values\n",
    "limit_ball_default_0 = df[df['default']==0]['LIMIT_BAL'].values"
   ]
  },
  {
   "cell_type": "code",
   "execution_count": 14,
   "metadata": {},
   "outputs": [],
   "source": [
    "np.random.seed(0)\n",
    "\n",
    "lb_def_1_median_scores = np.array(list(map(np.median, get_bootstrap_samples(limit_ball_default_1, 1000))))\n",
    "lb_def_0_median_scores = np.array(list(map(np.median, get_bootstrap_samples(limit_ball_default_0, 1000))))"
   ]
  },
  {
   "cell_type": "code",
   "execution_count": 15,
   "metadata": {},
   "outputs": [
    {
     "data": {
      "text/plain": [
       "array([60000., 70000.])"
      ]
     },
     "execution_count": 15,
     "metadata": {},
     "output_type": "execute_result"
    }
   ],
   "source": [
    "diff_value = lb_def_0_median_scores - lb_def_1_median_scores\n",
    "stat_intervals(diff_value, alpha)"
   ]
  },
  {
   "cell_type": "markdown",
   "metadata": {},
   "source": [
    "Интервальная оценка разницы медиан с помощью бутстрепа показывает, что группа клиентов, не имеющих задолженнойстей по выплате кредитов, в среднем имеют больший объем кредитных средств.\n",
    "\n",
    "__b)__ Поскольку распределение признака `LIMIT_BAL` не является нормальным, нет возможности воспользоваться стандартными параметрическими тестами. Сравниваются значения по двум независимым выборкам, поэтому для проверки гипотезы о равенстве распределений с помощью рангового критерия равенства средних воспользуемся непараметрическим тестом Уилкоксона-Мана-Уитни. \n",
    "\n",
    "H0: $F_{LimitBal|default=1}(x) = F_{LimitBal|default=0}(x)$\n",
    "\n",
    "H1: $F_{LimitBal|default=1}(x) = F_{LimitBal|default=0}(x+\\Delta)$\n",
    "\n",
    "$alpha = 0.05$"
   ]
  },
  {
   "cell_type": "code",
   "execution_count": 16,
   "metadata": {},
   "outputs": [
    {
     "data": {
      "text/plain": [
       "MannwhitneyuResult(statistic=59257217.5, pvalue=1.2255485818223303e-189)"
      ]
     },
     "execution_count": 16,
     "metadata": {},
     "output_type": "execute_result"
    }
   ],
   "source": [
    "stats.mannwhitneyu(limit_ball_default_1, limit_ball_default_0, alternative ='two-sided')"
   ]
  },
  {
   "cell_type": "markdown",
   "metadata": {},
   "source": [
    "p-value, т.е. достигаемый уровень значимости для проведенного теста ~0. \n",
    "\n",
    "__Соответственно, гипотеза H0: $F_{LimitBal|default=1}(x) = F_{LimitBal|default=0}(x)$ отвергается при заданном уровне alpha=0.05.__\n",
    "\n",
    "Нельзя отвергать тот факт, что распределение лимита баланса кредитов у лиц, имеющих задолженность, отличается от распределения лимита баланса лиц без задолженностей. В целом лимит кредитного баланса у лиц без задолженностей больше, что является логичным.\n",
    "\n",
    "С точки зрения управления кредитными ресурсами вывод не является практически значимым.\n",
    "\n",
    "С точки зрения оценки грамотности внутреннего управления средствами кредитного баланса вывод является практически значимым.\n",
    "\n",
    "---"
   ]
  },
  {
   "cell_type": "markdown",
   "metadata": {},
   "source": [
    "__Задача 2.__\n",
    "\n",
    "Пол (SEX): Проверьте гипотезу о том, что гендерный состав группы людей вернувших и не вернувших кредит отличается. Хорошо, если вы предоставите несколько различных решений этой задачи (с помощью доверительного интервала и подходящего статистического критерия)."
   ]
  },
  {
   "cell_type": "code",
   "execution_count": 17,
   "metadata": {},
   "outputs": [
    {
     "data": {
      "text/plain": [
       "array([2, 1], dtype=int64)"
      ]
     },
     "execution_count": 17,
     "metadata": {},
     "output_type": "execute_result"
    }
   ],
   "source": [
    "df['SEX'].unique()"
   ]
  },
  {
   "cell_type": "code",
   "execution_count": 18,
   "metadata": {},
   "outputs": [
    {
     "data": {
      "text/plain": [
       "array([0, 1], dtype=int64)"
      ]
     },
     "execution_count": 18,
     "metadata": {},
     "output_type": "execute_result"
    }
   ],
   "source": [
    "# Перекодируем параметр как 0-женщина, 1-мужчина\n",
    "df['SEX'] = df['SEX'].apply(lambda x: {2:0, 1:1}[x])\n",
    "df['SEX'].unique()"
   ]
  },
  {
   "cell_type": "code",
   "execution_count": 19,
   "metadata": {},
   "outputs": [
    {
     "data": {
      "text/plain": [
       "0    0.61415\n",
       "1    0.38585\n",
       "Name: SEX, dtype: float64"
      ]
     },
     "execution_count": 19,
     "metadata": {},
     "output_type": "execute_result"
    }
   ],
   "source": [
    "df[df['default']==0]['SEX'].value_counts(normalize=True)"
   ]
  },
  {
   "cell_type": "code",
   "execution_count": 20,
   "metadata": {},
   "outputs": [
    {
     "data": {
      "text/plain": [
       "0    0.567058\n",
       "1    0.432942\n",
       "Name: SEX, dtype: float64"
      ]
     },
     "execution_count": 20,
     "metadata": {},
     "output_type": "execute_result"
    }
   ],
   "source": [
    "df[df['default']==1]['SEX'].value_counts(normalize=True)"
   ]
  },
  {
   "cell_type": "code",
   "execution_count": 21,
   "metadata": {},
   "outputs": [
    {
     "data": {
      "text/html": [
       "<div>\n",
       "<style scoped>\n",
       "    .dataframe tbody tr th:only-of-type {\n",
       "        vertical-align: middle;\n",
       "    }\n",
       "\n",
       "    .dataframe tbody tr th {\n",
       "        vertical-align: top;\n",
       "    }\n",
       "\n",
       "    .dataframe thead th {\n",
       "        text-align: right;\n",
       "    }\n",
       "</style>\n",
       "<table border=\"1\" class=\"dataframe\">\n",
       "  <thead>\n",
       "    <tr style=\"text-align: right;\">\n",
       "      <th>default</th>\n",
       "      <th>0</th>\n",
       "      <th>1</th>\n",
       "    </tr>\n",
       "    <tr>\n",
       "      <th>SEX</th>\n",
       "      <th></th>\n",
       "      <th></th>\n",
       "    </tr>\n",
       "  </thead>\n",
       "  <tbody>\n",
       "    <tr>\n",
       "      <th>0</th>\n",
       "      <td>14349</td>\n",
       "      <td>3763</td>\n",
       "    </tr>\n",
       "    <tr>\n",
       "      <th>1</th>\n",
       "      <td>9015</td>\n",
       "      <td>2873</td>\n",
       "    </tr>\n",
       "  </tbody>\n",
       "</table>\n",
       "</div>"
      ],
      "text/plain": [
       "default      0     1\n",
       "SEX                 \n",
       "0        14349  3763\n",
       "1         9015  2873"
      ]
     },
     "execution_count": 21,
     "metadata": {},
     "output_type": "execute_result"
    }
   ],
   "source": [
    "pd.crosstab(df['SEX'], df['default'])"
   ]
  },
  {
   "cell_type": "code",
   "execution_count": 22,
   "metadata": {},
   "outputs": [
    {
     "data": {
      "text/html": [
       "<div>\n",
       "<style scoped>\n",
       "    .dataframe tbody tr th:only-of-type {\n",
       "        vertical-align: middle;\n",
       "    }\n",
       "\n",
       "    .dataframe tbody tr th {\n",
       "        vertical-align: top;\n",
       "    }\n",
       "\n",
       "    .dataframe thead th {\n",
       "        text-align: right;\n",
       "    }\n",
       "</style>\n",
       "<table border=\"1\" class=\"dataframe\">\n",
       "  <thead>\n",
       "    <tr style=\"text-align: right;\">\n",
       "      <th>default</th>\n",
       "      <th>0</th>\n",
       "      <th>1</th>\n",
       "    </tr>\n",
       "    <tr>\n",
       "      <th>SEX</th>\n",
       "      <th></th>\n",
       "      <th></th>\n",
       "    </tr>\n",
       "  </thead>\n",
       "  <tbody>\n",
       "    <tr>\n",
       "      <th>0</th>\n",
       "      <td>11</td>\n",
       "      <td>8</td>\n",
       "    </tr>\n",
       "    <tr>\n",
       "      <th>1</th>\n",
       "      <td>3</td>\n",
       "      <td>5</td>\n",
       "    </tr>\n",
       "  </tbody>\n",
       "</table>\n",
       "</div>"
      ],
      "text/plain": [
       "default   0  1\n",
       "SEX           \n",
       "0        11  8\n",
       "1         3  5"
      ]
     },
     "execution_count": 22,
     "metadata": {},
     "output_type": "execute_result"
    }
   ],
   "source": [
    "df_tmp = df[(df['PAY_0']==0)&\n",
    "   (df['PAY_2']!=0)&\n",
    "   (df['PAY_3']!=0)&\n",
    "   (df['PAY_4']!=0)&\n",
    "   (df['PAY_5']!=0)&\n",
    "   (df['PAY_6']!=0)\n",
    "  \n",
    "  ]\n",
    "pd.crosstab(df_tmp['SEX'], df_tmp['default'])"
   ]
  },
  {
   "cell_type": "code",
   "execution_count": 23,
   "metadata": {},
   "outputs": [
    {
     "data": {
      "text/html": [
       "<div>\n",
       "<style scoped>\n",
       "    .dataframe tbody tr th:only-of-type {\n",
       "        vertical-align: middle;\n",
       "    }\n",
       "\n",
       "    .dataframe tbody tr th {\n",
       "        vertical-align: top;\n",
       "    }\n",
       "\n",
       "    .dataframe thead th {\n",
       "        text-align: right;\n",
       "    }\n",
       "</style>\n",
       "<table border=\"1\" class=\"dataframe\">\n",
       "  <thead>\n",
       "    <tr style=\"text-align: right;\">\n",
       "      <th>default</th>\n",
       "      <th>0</th>\n",
       "      <th>1</th>\n",
       "    </tr>\n",
       "    <tr>\n",
       "      <th>SEX</th>\n",
       "      <th></th>\n",
       "      <th></th>\n",
       "    </tr>\n",
       "  </thead>\n",
       "  <tbody>\n",
       "    <tr>\n",
       "      <th>0</th>\n",
       "      <td>134</td>\n",
       "      <td>25</td>\n",
       "    </tr>\n",
       "    <tr>\n",
       "      <th>1</th>\n",
       "      <td>48</td>\n",
       "      <td>16</td>\n",
       "    </tr>\n",
       "  </tbody>\n",
       "</table>\n",
       "</div>"
      ],
      "text/plain": [
       "default    0   1\n",
       "SEX             \n",
       "0        134  25\n",
       "1         48  16"
      ]
     },
     "execution_count": 23,
     "metadata": {},
     "output_type": "execute_result"
    }
   ],
   "source": [
    "df_tmp = df[(df['BILL_AMT1']==0)&\n",
    "   (df['BILL_AMT2']!=0)&\n",
    "   (df['BILL_AMT3']!=0)&\n",
    "   (df['BILL_AMT4']!=0)&\n",
    "   (df['BILL_AMT5']!=0)&\n",
    "   (df['BILL_AMT6']!=0)\n",
    "  ]\n",
    "pd.crosstab(df_tmp['SEX'], df_tmp['default'])"
   ]
  },
  {
   "cell_type": "code",
   "execution_count": 24,
   "metadata": {},
   "outputs": [
    {
     "data": {
      "text/html": [
       "<div>\n",
       "<style scoped>\n",
       "    .dataframe tbody tr th:only-of-type {\n",
       "        vertical-align: middle;\n",
       "    }\n",
       "\n",
       "    .dataframe tbody tr th {\n",
       "        vertical-align: top;\n",
       "    }\n",
       "\n",
       "    .dataframe thead th {\n",
       "        text-align: right;\n",
       "    }\n",
       "</style>\n",
       "<table border=\"1\" class=\"dataframe\">\n",
       "  <thead>\n",
       "    <tr style=\"text-align: right;\">\n",
       "      <th></th>\n",
       "      <th>default</th>\n",
       "      <th>SEX</th>\n",
       "      <th>id_count</th>\n",
       "      <th>default_&amp;_SEX</th>\n",
       "      <th>id_sum</th>\n",
       "      <th>id_fraction</th>\n",
       "    </tr>\n",
       "  </thead>\n",
       "  <tbody>\n",
       "    <tr>\n",
       "      <th>0</th>\n",
       "      <td>0</td>\n",
       "      <td>0</td>\n",
       "      <td>14349</td>\n",
       "      <td>def:0_sex:0</td>\n",
       "      <td>23364</td>\n",
       "      <td>0.614150</td>\n",
       "    </tr>\n",
       "    <tr>\n",
       "      <th>1</th>\n",
       "      <td>0</td>\n",
       "      <td>1</td>\n",
       "      <td>9015</td>\n",
       "      <td>def:0_sex:1</td>\n",
       "      <td>23364</td>\n",
       "      <td>0.385850</td>\n",
       "    </tr>\n",
       "    <tr>\n",
       "      <th>2</th>\n",
       "      <td>1</td>\n",
       "      <td>0</td>\n",
       "      <td>3763</td>\n",
       "      <td>def:1_sex:0</td>\n",
       "      <td>6636</td>\n",
       "      <td>0.567058</td>\n",
       "    </tr>\n",
       "    <tr>\n",
       "      <th>3</th>\n",
       "      <td>1</td>\n",
       "      <td>1</td>\n",
       "      <td>2873</td>\n",
       "      <td>def:1_sex:1</td>\n",
       "      <td>6636</td>\n",
       "      <td>0.432942</td>\n",
       "    </tr>\n",
       "  </tbody>\n",
       "</table>\n",
       "</div>"
      ],
      "text/plain": [
       "   default  SEX  id_count default_&_SEX  id_sum  id_fraction\n",
       "0        0    0     14349   def:0_sex:0   23364     0.614150\n",
       "1        0    1      9015   def:0_sex:1   23364     0.385850\n",
       "2        1    0      3763   def:1_sex:0    6636     0.567058\n",
       "3        1    1      2873   def:1_sex:1    6636     0.432942"
      ]
     },
     "execution_count": 24,
     "metadata": {},
     "output_type": "execute_result"
    }
   ],
   "source": [
    "df_grouped = pd.DataFrame(df.groupby(by=['default', 'SEX'])['ID'].count())\n",
    "df_grouped.rename(columns={'ID': 'id_count'}, inplace=True)\n",
    "df_grouped.reset_index(inplace=True, drop=False)\n",
    "df_grouped['default_&_SEX'] = df_grouped.apply(lambda row: f'def:{row.default}_sex:{row.SEX}', axis=1)\n",
    "\n",
    "df_grouped = pd.merge(df_grouped,\n",
    "                      pd.DataFrame((df_grouped.groupby(by=['default'])['id_count'].sum())).reset_index(\n",
    "                          ).rename(\n",
    "                              columns={'id_count': 'id_sum'}),\n",
    "                      how='left',\n",
    "                      on='default'\n",
    "                     )\n",
    "\n",
    "df_grouped['id_fraction'] = df_grouped['id_count']/df_grouped['id_sum']\n",
    "df_grouped"
   ]
  },
  {
   "cell_type": "code",
   "execution_count": 25,
   "metadata": {
    "scrolled": true
   },
   "outputs": [
    {
     "data": {
      "image/png": "[encoded data removed]",
      "text/plain": [
       "<Figure size 432x288 with 1 Axes>"
      ]
     },
     "metadata": {
      "image/png": {
       "height": 281,
       "width": 413
      }
     },
     "output_type": "display_data"
    }
   ],
   "source": [
    "fig=plt.figure(figsize=(6,4))\n",
    "sns.barplot(x=\"default_&_SEX\", y=\"id_fraction\", hue='SEX', data=df_grouped, alpha=0.9)\n",
    "plt.xlabel('Наличие задолженности и пол клиента')\n",
    "plt.ylabel('Доля клиентов в разрезе default')\n",
    "plt.title('Долевое распределение пола клиентов в разрезе показателя default')\n",
    "plt.show()"
   ]
  },
  {
   "cell_type": "markdown",
   "metadata": {},
   "source": [
    "__1)__ Поскольку есть возможность исследовать гендерный состав с помощью долей, то можно использовать Z-критерий для доли. Используя Z-критерий для доли, рассмотрим  гипотезы о внутригрупповом (т.е. в рамках групп default=0 и default=1) распределении полов:\n",
    "\n",
    "\n",
    "1. H0: p(мужчины, дефолт=0) = 0.5\n",
    "\n",
    "   H1: p(мужчины, дефолт=0) != 0.5\n",
    "   \n",
    "   \n",
    "2. H0: p(женщины, дефолт=0) = 0.5\n",
    "\n",
    "   H1: p(женщины, дефолт=0) != 0.5\n",
    "   \n",
    "   \n",
    "3. H0: p(мужчины, дефолт=1) = 0.5\n",
    "\n",
    "   H1: p(мужчины, дефолт=1) != 0.5\n",
    "   \n",
    "   \n",
    "4. H0: p(женщины, дефолт=1) = 0.5\n",
    "\n",
    "   H1: p(женщины, дефолт=1) != 0.5\n"
   ]
  },
  {
   "cell_type": "code",
   "execution_count": 26,
   "metadata": {},
   "outputs": [],
   "source": [
    "from statsmodels.stats.proportion import proportion_confint"
   ]
  },
  {
   "cell_type": "code",
   "execution_count": 27,
   "metadata": {},
   "outputs": [],
   "source": [
    "p_hat = df_grouped[df_grouped['default_&_SEX']=='def:0_sex:1']['id_fraction'].values[0]\n",
    "z_stat = st.norm.ppf(q=1 - alpha/2)\n",
    "p0 = 0.5\n",
    "n = df_grouped[df_grouped['default_&_SEX']=='def:0_sex:1']['id_sum'].values[0]"
   ]
  },
  {
   "cell_type": "code",
   "execution_count": 28,
   "metadata": {},
   "outputs": [
    {
     "data": {
      "text/plain": [
       "[0.37960806572767264, 0.3920919856333957]"
      ]
     },
     "execution_count": 28,
     "metadata": {},
     "output_type": "execute_result"
    }
   ],
   "source": [
    "interval = [p_hat - z_stat*np.sqrt(( p_hat*(1-p_hat)/n )), \n",
    "            p_hat + z_stat*np.sqrt(( p_hat*(1-p_hat)/n ))]\n",
    "interval"
   ]
  },
  {
   "cell_type": "code",
   "execution_count": 29,
   "metadata": {},
   "outputs": [
    {
     "data": {
      "text/plain": [
       "(0.37960806572767264, 0.3920919856333957)"
      ]
     },
     "execution_count": 29,
     "metadata": {},
     "output_type": "execute_result"
    }
   ],
   "source": [
    "# Проверка с помощью scipy\n",
    "proportion_confint(count=p_hat*n, nobs=n, method = 'normal')"
   ]
  },
  {
   "cell_type": "code",
   "execution_count": 30,
   "metadata": {},
   "outputs": [
    {
     "name": "stdout",
     "output_type": "stream",
     "text": [
      "stat:  -34.8963024694603 p_value:  0.0\n"
     ]
    }
   ],
   "source": [
    "# Статистика и достигаемый уровень значимости для двустороннего доверительного интервала\n",
    "stat = (p_hat - p0)/ (np.sqrt(( p0*(1-p0)/n )))\n",
    "p_value = 2*(1-st.norm.cdf(np.abs(stat)))\n",
    "\n",
    "print('stat: ', stat, 'p_value: ', p_value)"
   ]
  },
  {
   "cell_type": "markdown",
   "metadata": {},
   "source": [
    "Соответственно: \n",
    "\n",
    "H0: p(мужчины, дефолт=0) = 0.5 - отвергается с заданным уровнем значимости alpha = 0.05 \n",
    "\n",
    "H1: p(мужчины, дефолт=0) != 0.5 - не отвергается с заданным уровнем значимости alpha = 0.05 \n",
    "\n",
    "Получается, что среди не имеющих дефолт доля мужчин статистически меньше 50% от всех людей, не имеющих его. Т.е. структурно среди неимеющих дефолт людей мужчин меньше."
   ]
  },
  {
   "cell_type": "code",
   "execution_count": 31,
   "metadata": {},
   "outputs": [],
   "source": [
    "p_hat = df_grouped[df_grouped['default_&_SEX']=='def:0_sex:0']['id_fraction'].values[0]\n",
    "z_stat = st.norm.ppf(q=1 - alpha/2)\n",
    "p0 = 0.5\n",
    "n = df_grouped[df_grouped['default_&_SEX']=='def:0_sex:0']['id_sum'].values[0]"
   ]
  },
  {
   "cell_type": "code",
   "execution_count": 32,
   "metadata": {},
   "outputs": [
    {
     "data": {
      "text/plain": [
       "[0.6079080143666044, 0.6203919342723273]"
      ]
     },
     "execution_count": 32,
     "metadata": {},
     "output_type": "execute_result"
    }
   ],
   "source": [
    "interval = [p_hat - z_stat*np.sqrt(( p_hat*(1-p_hat)/n )), \n",
    "            p_hat + z_stat*np.sqrt(( p_hat*(1-p_hat)/n ))]\n",
    "interval"
   ]
  },
  {
   "cell_type": "code",
   "execution_count": 33,
   "metadata": {},
   "outputs": [
    {
     "data": {
      "text/plain": [
       "(0.6079080143666044, 0.6203919342723273)"
      ]
     },
     "execution_count": 33,
     "metadata": {},
     "output_type": "execute_result"
    }
   ],
   "source": [
    "# Проверка с помощью scipy\n",
    "proportion_confint(count=p_hat*n, nobs=n, method = 'normal')"
   ]
  },
  {
   "cell_type": "code",
   "execution_count": 34,
   "metadata": {},
   "outputs": [
    {
     "name": "stdout",
     "output_type": "stream",
     "text": [
      "stat:  34.8963024694603 p_value:  0.0\n"
     ]
    }
   ],
   "source": [
    "# Статистика и достигаемый уровень значимости для двустороннего доверительного интервала\n",
    "stat = (p_hat - p0)/ (np.sqrt(( p0*(1-p0)/n )))\n",
    "p_value = 2*(1-st.norm.cdf(np.abs(stat)))\n",
    "\n",
    "print('stat: ', stat, 'p_value: ', p_value)"
   ]
  },
  {
   "cell_type": "markdown",
   "metadata": {},
   "source": [
    "Соответственно: \n",
    "\n",
    "H0: p(женщины, дефолт=0) = 0.5 - отвергается с заданным уровнем значимости alpha = 0.05 \n",
    "\n",
    "H1: p(женщины, дефолт=0) != 0.5 - не отвергается с заданным уровнем значимости alpha = 0.05 \n",
    "\n",
    "Зеркальная ситуация, дополняющая предыдущие выводы. Получается, что среди не имеющих дефолт доля женщин статистически больше 50% от всех людей, не имеющих его. Т.е. структурно среди неимеющих дефолт людей женщин больше.\n",
    "\n",
    "---"
   ]
  },
  {
   "cell_type": "code",
   "execution_count": 35,
   "metadata": {},
   "outputs": [],
   "source": [
    "p_hat = df_grouped[df_grouped['default_&_SEX']=='def:1_sex:1']['id_fraction'].values[0]\n",
    "z_stat = st.norm.ppf(q=1 - alpha/2)\n",
    "p0 = 0.5\n",
    "n = df_grouped[df_grouped['default_&_SEX']=='def:1_sex:1']['id_sum'].values[0]"
   ]
  },
  {
   "cell_type": "code",
   "execution_count": 36,
   "metadata": {},
   "outputs": [
    {
     "data": {
      "text/plain": [
       "[0.4210202357094044, 0.44486282637618935]"
      ]
     },
     "execution_count": 36,
     "metadata": {},
     "output_type": "execute_result"
    }
   ],
   "source": [
    "interval = [p_hat - z_stat*np.sqrt(( p_hat*(1-p_hat)/n )), \n",
    "            p_hat + z_stat*np.sqrt(( p_hat*(1-p_hat)/n ))]\n",
    "interval"
   ]
  },
  {
   "cell_type": "code",
   "execution_count": 37,
   "metadata": {},
   "outputs": [
    {
     "data": {
      "text/plain": [
       "(0.4210202357094044, 0.44486282637618935)"
      ]
     },
     "execution_count": 37,
     "metadata": {},
     "output_type": "execute_result"
    }
   ],
   "source": [
    "# Проверка с помощью scipy\n",
    "proportion_confint(count=p_hat*n, nobs=n, method = 'normal')"
   ]
  },
  {
   "cell_type": "code",
   "execution_count": 38,
   "metadata": {},
   "outputs": [
    {
     "name": "stdout",
     "output_type": "stream",
     "text": [
      "stat:  -10.925386709120259 p_value:  0.0\n"
     ]
    }
   ],
   "source": [
    "# Статистика и достигаемый уровень значимости для двустороннего доверительного интервала\n",
    "stat = (p_hat - p0)/ (np.sqrt(( p0*(1-p0)/n )))\n",
    "p_value = 2*(1-st.norm.cdf(np.abs(stat)))\n",
    "\n",
    "print('stat: ', stat, 'p_value: ', p_value)"
   ]
  },
  {
   "cell_type": "markdown",
   "metadata": {},
   "source": [
    "Соответственно: \n",
    "\n",
    "H0: p(мужчины, дефолт=1) = 0.5 - отвергается с заданным уровнем значимости alpha = 0.05 \n",
    "\n",
    "H1: p(мужчины, дефолт=1) != 0.5 - не отвергается с заданным уровнем значимости alpha = 0.05 \n",
    "\n",
    "Получается, что среди имеющих дефолт доля мужчин статистически меньше 50% от всех людей, имеющих его. Т.е. структурно среди имеющих дефолт мужчин меньше.\n",
    "\n",
    "---"
   ]
  },
  {
   "cell_type": "code",
   "execution_count": 39,
   "metadata": {},
   "outputs": [],
   "source": [
    "p_hat = df_grouped[df_grouped['default_&_SEX']=='def:1_sex:0']['id_fraction'].values[0]\n",
    "z_stat = st.norm.ppf(q=1 - alpha/2)\n",
    "p0 = 0.5\n",
    "n = df_grouped[df_grouped['default_&_SEX']=='def:1_sex:0']['id_sum'].values[0]"
   ]
  },
  {
   "cell_type": "code",
   "execution_count": 40,
   "metadata": {},
   "outputs": [
    {
     "data": {
      "text/plain": [
       "[0.5551371736238107, 0.5789797642905956]"
      ]
     },
     "execution_count": 40,
     "metadata": {},
     "output_type": "execute_result"
    }
   ],
   "source": [
    "interval = [p_hat - z_stat*np.sqrt(( p_hat*(1-p_hat)/n )), \n",
    "            p_hat + z_stat*np.sqrt(( p_hat*(1-p_hat)/n ))]\n",
    "interval"
   ]
  },
  {
   "cell_type": "code",
   "execution_count": 41,
   "metadata": {},
   "outputs": [
    {
     "data": {
      "text/plain": [
       "(0.5551371736238107, 0.5789797642905956)"
      ]
     },
     "execution_count": 41,
     "metadata": {},
     "output_type": "execute_result"
    }
   ],
   "source": [
    "# Проверка с помощью scipy\n",
    "proportion_confint(count=p_hat*n, nobs=n, method = 'normal')"
   ]
  },
  {
   "cell_type": "code",
   "execution_count": 42,
   "metadata": {},
   "outputs": [
    {
     "name": "stdout",
     "output_type": "stream",
     "text": [
      "stat:  10.925386709120259 p_value:  0.0\n"
     ]
    }
   ],
   "source": [
    "# Статистика и достигаемый уровень значимости для двустороннего доверительного интервала\n",
    "stat = (p_hat - p0)/ (np.sqrt(( p0*(1-p0)/n )))\n",
    "p_value = 2*(1-st.norm.cdf(np.abs(stat)))\n",
    "\n",
    "print('stat: ', stat, 'p_value: ', p_value)"
   ]
  },
  {
   "cell_type": "markdown",
   "metadata": {},
   "source": [
    "Соответственно: \n",
    "\n",
    "H0: p(женщины, дефолт=1) = 0.5 - отвергается с заданным уровнем значимости alpha = 0.05 \n",
    "\n",
    "H1: p(женщины, дефолт=1) != 0.5 - не отвергается с заданным уровнем значимости alpha = 0.05 \n",
    "\n",
    "Ситуация зеркально описывает предыдущий вывод.\n",
    "Получается, что среди имеющих дефолт доля женщин статистически больше 50% от всех людей, имеющих его. Т.е. структурно среди имеющих дефолт женщин больше.\n",
    "\n",
    "---\n",
    "\n",
    "Указанные выводы статистически обосновывают преобладание женщин среди групп, вернувших денежные средства вовремя, и среди групп, не вернувших средства вовремя."
   ]
  },
  {
   "cell_type": "markdown",
   "metadata": {},
   "source": [
    "__2)__ \n",
    "Теперь попробуем ответить на вопрос, статистически ли значимо отличие доли мужчин и доли женщин между двумя группами: вернувших и не вернувших деньги вовремя. Для этого воспользумся статистическим тестом для доли в случае двух независимых выборок. Выборки независимые, поскольку измерения не проводятся на одних и тех же людях.\n",
    "\n",
    "1. H0: p(мужчин| дефолт=1) =  p(мужчин| дефолт=0)\n",
    "   H1: p(мужчин| дефолт=1) !=  p(мужчин| дефолт=0)\n",
    "   \n",
    "   \n",
    "2. H0: p(женщин| дефолт=1) =  p(женщин| дефолт=0)\n",
    "   H1: p(женщин| дефолт=1) !=  p(женщин| дефолт=0)"
   ]
  },
  {
   "cell_type": "markdown",
   "metadata": {},
   "source": [
    "Мужчины:"
   ]
  },
  {
   "cell_type": "code",
   "execution_count": 43,
   "metadata": {},
   "outputs": [],
   "source": [
    "p0 = df_grouped[df_grouped['default_&_SEX']=='def:0_sex:1']['id_fraction'].values[0]\n",
    "p1 = df_grouped[df_grouped['default_&_SEX']=='def:1_sex:1']['id_fraction'].values[0]\n",
    "\n",
    "n0 = df_grouped[df_grouped['default_&_SEX']=='def:0_sex:1']['id_sum'].values[0]\n",
    "n1 = df_grouped[df_grouped['default_&_SEX']=='def:1_sex:1']['id_sum'].values[0]"
   ]
  },
  {
   "cell_type": "code",
   "execution_count": 44,
   "metadata": {},
   "outputs": [],
   "source": [
    "z_stat = st.norm.ppf(q=1 - alpha/2)\n",
    "stat = np.sqrt( (p0*(1-p0))/n0 + (p1*(1-p1))/n1)"
   ]
  },
  {
   "cell_type": "code",
   "execution_count": 45,
   "metadata": {},
   "outputs": [
    {
     "data": {
      "text/plain": [
       "[-0.060548077974896725, -0.03363493274962867]"
      ]
     },
     "execution_count": 45,
     "metadata": {},
     "output_type": "execute_result"
    }
   ],
   "source": [
    "interval = [p0-p1 - z_stat*stat, p0-p1 + z_stat*stat]\n",
    "interval"
   ]
  },
  {
   "cell_type": "code",
   "execution_count": 46,
   "metadata": {},
   "outputs": [
    {
     "name": "stdout",
     "output_type": "stream",
     "text": [
      "stat:  -1017.283961259149 p_value:  0.0\n"
     ]
    }
   ],
   "source": [
    "p_ = (p0*n0 + p1*n1)/(n0 + n1)\n",
    "stat = (p0 - p1)/ (  p_*(1 - p_)*(1/n0 + 1/n1) )\n",
    "\n",
    "p_value = 2*(1-st.norm.cdf(np.abs(stat)))\n",
    "\n",
    "print('stat: ', stat, 'p_value: ', p_value)"
   ]
  },
  {
   "cell_type": "markdown",
   "metadata": {},
   "source": [
    "Соответственно, гипотеза о равенстве долей мужчин в группах с дефолтом и без отвергается. \n",
    "По доверительному интервалу разности долей можно видеть, что доля мужчин без дефолта меньше доли мужчин с дефолтом."
   ]
  },
  {
   "cell_type": "markdown",
   "metadata": {},
   "source": [
    "Женщины:"
   ]
  },
  {
   "cell_type": "code",
   "execution_count": 47,
   "metadata": {},
   "outputs": [],
   "source": [
    "p0 = df_grouped[df_grouped['default_&_SEX']=='def:0_sex:0']['id_fraction'].values[0]\n",
    "p1 = df_grouped[df_grouped['default_&_SEX']=='def:1_sex:0']['id_fraction'].values[0]\n",
    "\n",
    "n0 = df_grouped[df_grouped['default_&_SEX']=='def:0_sex:0']['id_sum'].values[0]\n",
    "n1 = df_grouped[df_grouped['default_&_SEX']=='def:1_sex:0']['id_sum'].values[0]"
   ]
  },
  {
   "cell_type": "code",
   "execution_count": 48,
   "metadata": {},
   "outputs": [
    {
     "data": {
      "text/plain": [
       "[0.03363493274962867, 0.060548077974896725]"
      ]
     },
     "execution_count": 48,
     "metadata": {},
     "output_type": "execute_result"
    }
   ],
   "source": [
    "z_stat = st.norm.ppf(q=1 - alpha/2)\n",
    "stat = np.sqrt( (p0*(1-p0))/n0 + (p1*(1-p1))/n1)\n",
    "\n",
    "interval = [p0-p1 - z_stat*stat, p0-p1 + z_stat*stat]\n",
    "interval"
   ]
  },
  {
   "cell_type": "code",
   "execution_count": 49,
   "metadata": {},
   "outputs": [
    {
     "name": "stdout",
     "output_type": "stream",
     "text": [
      "stat:  1017.283961259149 p_value:  0.0\n"
     ]
    }
   ],
   "source": [
    "p_ = (p0*n0 + p1*n1)/(n0 + n1)\n",
    "stat = (p0 - p1)/ (  p_*(1 - p_)*(1/n0 + 1/n1) )\n",
    "\n",
    "p_value = 2*(1-st.norm.cdf(np.abs(stat)))\n",
    "\n",
    "print('stat: ', stat, 'p_value: ', p_value)"
   ]
  },
  {
   "cell_type": "markdown",
   "metadata": {},
   "source": [
    "Соответственно, гипотеза о равенстве долей женщин в группах с дефолтом и без отвергается. \n",
    "По доверительному интервалу разности долей можно видеть, что доля женщин без дефолта больше доли женщин с дефолтом.\n",
    "\n",
    "---"
   ]
  },
  {
   "cell_type": "markdown",
   "metadata": {},
   "source": [
    "__Задача 3.__\n",
    "\n",
    "Образование (EDUCATION): Проверьте __гипотезу о том, что образование не влияет на то, вернет ли человек долг__. \n",
    "\n",
    "Предложите способ наглядного представления разницы в ожидаемых и наблюдаемых значениях количества человек вернувших и не вернувших долг. \n",
    "\n",
    "Например, __составьте таблицу сопряженности \"образование\" на \"возврат долга\"__, где значением ячейки была бы разность между наблюдаемым и ожидаемым количеством человек.\n",
    "\n",
    "Как бы вы предложили модифицировать таблицу так, чтобы привести значения ячеек к одному масштабу не потеряв в интерпретируемости ?\n",
    "\n",
    "Наличие какого образования является наилучшим индикатором того, что человек отдаст долг ? наоборт, не отдаст долг ?"
   ]
  },
  {
   "cell_type": "code",
   "execution_count": 50,
   "metadata": {},
   "outputs": [
    {
     "data": {
      "text/html": [
       "<div>\n",
       "<style scoped>\n",
       "    .dataframe tbody tr th:only-of-type {\n",
       "        vertical-align: middle;\n",
       "    }\n",
       "\n",
       "    .dataframe tbody tr th {\n",
       "        vertical-align: top;\n",
       "    }\n",
       "\n",
       "    .dataframe thead th {\n",
       "        text-align: right;\n",
       "    }\n",
       "</style>\n",
       "<table border=\"1\" class=\"dataframe\">\n",
       "  <thead>\n",
       "    <tr style=\"text-align: right;\">\n",
       "      <th>default</th>\n",
       "      <th>0</th>\n",
       "      <th>1</th>\n",
       "    </tr>\n",
       "    <tr>\n",
       "      <th>EDUCATION</th>\n",
       "      <th></th>\n",
       "      <th></th>\n",
       "    </tr>\n",
       "  </thead>\n",
       "  <tbody>\n",
       "    <tr>\n",
       "      <th>0</th>\n",
       "      <td>14</td>\n",
       "      <td>0</td>\n",
       "    </tr>\n",
       "    <tr>\n",
       "      <th>1</th>\n",
       "      <td>8549</td>\n",
       "      <td>2036</td>\n",
       "    </tr>\n",
       "    <tr>\n",
       "      <th>2</th>\n",
       "      <td>10700</td>\n",
       "      <td>3330</td>\n",
       "    </tr>\n",
       "    <tr>\n",
       "      <th>3</th>\n",
       "      <td>3680</td>\n",
       "      <td>1237</td>\n",
       "    </tr>\n",
       "    <tr>\n",
       "      <th>4</th>\n",
       "      <td>116</td>\n",
       "      <td>7</td>\n",
       "    </tr>\n",
       "    <tr>\n",
       "      <th>5</th>\n",
       "      <td>262</td>\n",
       "      <td>18</td>\n",
       "    </tr>\n",
       "    <tr>\n",
       "      <th>6</th>\n",
       "      <td>43</td>\n",
       "      <td>8</td>\n",
       "    </tr>\n",
       "  </tbody>\n",
       "</table>\n",
       "</div>"
      ],
      "text/plain": [
       "default        0     1\n",
       "EDUCATION             \n",
       "0             14     0\n",
       "1           8549  2036\n",
       "2          10700  3330\n",
       "3           3680  1237\n",
       "4            116     7\n",
       "5            262    18\n",
       "6             43     8"
      ]
     },
     "execution_count": 50,
     "metadata": {},
     "output_type": "execute_result"
    }
   ],
   "source": [
    "df_crosstab = pd.crosstab(df['EDUCATION'], df['default'])\n",
    "df_crosstab"
   ]
  },
  {
   "cell_type": "code",
   "execution_count": 51,
   "metadata": {},
   "outputs": [
    {
     "data": {
      "text/plain": [
       "array([[   14,     0],\n",
       "       [ 8549,  2036],\n",
       "       [10700,  3330],\n",
       "       [ 3680,  1237],\n",
       "       [  116,     7],\n",
       "       [  262,    18],\n",
       "       [   43,     8]], dtype=int64)"
      ]
     },
     "execution_count": 51,
     "metadata": {},
     "output_type": "execute_result"
    }
   ],
   "source": [
    "contig_table = df_crosstab.values\n",
    "contig_table"
   ]
  },
  {
   "cell_type": "markdown",
   "metadata": {},
   "source": [
    "Для того, чтобы проверить гипотезу, влияет ли образование на возврат долга, можно воспользоваться критерием Хи-квадрат Пирсона (критерий согласия), поскольку имеется два качественных признака, по которым возможно составить таблицу сопряженности и протестировать, отличаются ли эмпирические частоты сопряженной таблицы от теоретических.\n",
    "\n",
    "\n",
    "\n",
    "H0: Ожидаемые частоты = теоретическим частотам. Т.е. нельзя отвергать факт того, что образование не влияет на невозврат кредита.\n",
    "\n",
    "H1: Ожидаемые частоты != теоретическим частотам. Т.е. нулевая гипотеза об отсутствии зависимости между образованием и невозвратом кредита отличается."
   ]
  },
  {
   "cell_type": "code",
   "execution_count": 52,
   "metadata": {},
   "outputs": [],
   "source": [
    "from scipy.stats import chi2_contingency"
   ]
  },
  {
   "cell_type": "code",
   "execution_count": 53,
   "metadata": {},
   "outputs": [],
   "source": [
    "chi2, p_value, dof, expected = chi2_contingency(contig_table)"
   ]
  },
  {
   "cell_type": "code",
   "execution_count": 54,
   "metadata": {},
   "outputs": [
    {
     "name": "stdout",
     "output_type": "stream",
     "text": [
      "\n",
      "chi^2: 163.21655786997073\n",
      "p-value: 1.2332626245415605e-32\n",
      "dof: 6\n",
      "expected:\n",
      "[[1.0903200e+01 3.0968000e+00]\n",
      " [8.2435980e+03 2.3414020e+03]\n",
      " [1.0926564e+04 3.1034360e+03]\n",
      " [3.8293596e+03 1.0876404e+03]\n",
      " [9.5792400e+01 2.7207600e+01]\n",
      " [2.1806400e+02 6.1936000e+01]\n",
      " [3.9718800e+01 1.1281200e+01]]\n"
     ]
    }
   ],
   "source": [
    "print(f'\\nchi^2: {chi2}\\np-value: {p_value}\\ndof: {dof}\\nexpected:\\n{expected}')"
   ]
  },
  {
   "cell_type": "markdown",
   "metadata": {},
   "source": [
    "---"
   ]
  },
  {
   "cell_type": "markdown",
   "metadata": {},
   "source": [
    "Протестируем схожую гипотезу в ручном режиме, исходя из того, что теоретически дял каждой образовательной группы разбиение на людей с дефолтом и без осуществляется случайно (т.е. с p=0.5 происодит генерация значений 0 и 1) по биномиальному закону."
   ]
  },
  {
   "cell_type": "code",
   "execution_count": 55,
   "metadata": {},
   "outputs": [],
   "source": [
    "from collections import Counter"
   ]
  },
  {
   "cell_type": "code",
   "execution_count": 56,
   "metadata": {},
   "outputs": [
    {
     "data": {
      "text/plain": [
       "[0.0,\n",
       " 0.19234766178554558,\n",
       " 0.23734853884533144,\n",
       " 0.2515761643278422,\n",
       " 0.056910569105691054,\n",
       " 0.06428571428571428,\n",
       " 0.1568627450980392]"
      ]
     },
     "execution_count": 56,
     "metadata": {},
     "output_type": "execute_result"
    }
   ],
   "source": [
    "# Доля дефолтов в каждой группе образования\n",
    "freq_list = (contig_table[:, 1]/contig_table.sum(axis=1)).tolist()\n",
    "freq_list"
   ]
  },
  {
   "cell_type": "code",
   "execution_count": 57,
   "metadata": {},
   "outputs": [
    {
     "data": {
      "text/plain": [
       "array([[   6,    8],\n",
       "       [5362, 5223],\n",
       "       [7105, 6925],\n",
       "       [2462, 2455],\n",
       "       [  63,   60],\n",
       "       [ 132,  148],\n",
       "       [  28,   23]])"
      ]
     },
     "execution_count": 57,
     "metadata": {},
     "output_type": "execute_result"
    }
   ],
   "source": [
    "# Смоделируем теоретические частоты для каждой группы в условиях\n",
    "# равновероятностного исхода для отсутствия и наличия дефолта\n",
    "# Также зафиксируем константу псевдослучайного генератора чисел для воспроизводимости\n",
    "\n",
    "bernoulli_freq_list = []\n",
    "seed = 42\n",
    "binom_distr = st.bernoulli(p=0.5)\n",
    "np.random.seed(seed)\n",
    "\n",
    "for n in contig_table.sum(axis=1).tolist():\n",
    "    _counter = Counter(binom_distr.rvs(size=n, random_state=seed).tolist())\n",
    "    bernoulli_freq_list.append([_counter[0], _counter[1]])\n",
    "\n",
    "bernoulli_freq_list = np.array(bernoulli_freq_list)\n",
    "bernoulli_freq_list"
   ]
  },
  {
   "cell_type": "code",
   "execution_count": 58,
   "metadata": {},
   "outputs": [
    {
     "data": {
      "text/plain": [
       "array([[   14,     0],\n",
       "       [ 8549,  2036],\n",
       "       [10700,  3330],\n",
       "       [ 3680,  1237],\n",
       "       [  116,     7],\n",
       "       [  262,    18],\n",
       "       [   43,     8]], dtype=int64)"
      ]
     },
     "execution_count": 58,
     "metadata": {},
     "output_type": "execute_result"
    }
   ],
   "source": [
    "contig_table"
   ]
  },
  {
   "cell_type": "markdown",
   "metadata": {},
   "source": [
    "В том случае, если число ожидаемого явления меньше 10 хотя бы в одной ячейке, при анализе четырехпольных таблиц должен рассчитываться критерий хи-квадрат с поправкой Йейтса. Данная поправка позволяет уменьшить вероятность ошибки первого типа, т.е обнаружения различий там, где их нет. Поправка Йейтса заключается в вычитании 0,5 из абсолютного значения разности между фактическим и ожидаемым количеством наблюдений в каждой ячейке, что ведет к уменьшению величины критерия хи-квадрат.\n",
    "\n",
    "* https://infopedia.su/9x6804.html"
   ]
  },
  {
   "cell_type": "code",
   "execution_count": 59,
   "metadata": {},
   "outputs": [
    {
     "data": {
      "text/plain": [
       "6"
      ]
     },
     "execution_count": 59,
     "metadata": {},
     "output_type": "execute_result"
    }
   ],
   "source": [
    "# Chi^2 test, degrees of freedom: (Rows-1)x(Columns-1)\n",
    "doff = (bernoulli_freq_list.shape[0] - 1)*(bernoulli_freq_list.shape[1] - 1)\n",
    "doff"
   ]
  },
  {
   "cell_type": "code",
   "execution_count": 60,
   "metadata": {},
   "outputs": [],
   "source": [
    "chi2_stat = 0\n",
    "chi2_stat_corrected = 0\n",
    "yates_correction = 0.5\n",
    "\n",
    "for row in range(bernoulli_freq_list.shape[0]):\n",
    "    for column in range(bernoulli_freq_list.shape[1]):\n",
    "        \n",
    "        chi2_stat += ((contig_table[row, column] - \n",
    "                       bernoulli_freq_list[row, column])**2 ) / bernoulli_freq_list[row, column]\n",
    "        \n",
    "        chi2_stat_corrected += ((np.abs(contig_table[row, column] - \n",
    "                             bernoulli_freq_list[row, column]) \n",
    "                     - yates_correction)**2  ) / bernoulli_freq_list[row, column]"
   ]
  },
  {
   "cell_type": "code",
   "execution_count": 61,
   "metadata": {},
   "outputs": [
    {
     "data": {
      "text/plain": [
       "9101.165249540518"
      ]
     },
     "execution_count": 61,
     "metadata": {},
     "output_type": "execute_result"
    }
   ],
   "source": [
    "chi2_stat"
   ]
  },
  {
   "cell_type": "code",
   "execution_count": 62,
   "metadata": {},
   "outputs": [
    {
     "data": {
      "text/plain": [
       "9090.940481123203"
      ]
     },
     "execution_count": 62,
     "metadata": {},
     "output_type": "execute_result"
    }
   ],
   "source": [
    "chi2_stat_corrected"
   ]
  },
  {
   "cell_type": "code",
   "execution_count": 63,
   "metadata": {},
   "outputs": [
    {
     "data": {
      "text/plain": [
       "0.0"
      ]
     },
     "execution_count": 63,
     "metadata": {},
     "output_type": "execute_result"
    }
   ],
   "source": [
    "p_value = 1-st.chi2.cdf(chi2_stat, doff)\n",
    "p_value"
   ]
  },
  {
   "cell_type": "code",
   "execution_count": 64,
   "metadata": {},
   "outputs": [
    {
     "data": {
      "text/plain": [
       "0.0"
      ]
     },
     "execution_count": 64,
     "metadata": {},
     "output_type": "execute_result"
    }
   ],
   "source": [
    "p_value = 1-st.chi2.cdf(chi2_stat_corrected, doff)\n",
    "p_value"
   ]
  },
  {
   "cell_type": "markdown",
   "metadata": {},
   "source": [
    "Соответственно, гипотеза о равенстве ожидаемых частот теоретическим (рапсределение Бернулли с p=0.5) отвергается с заданным уровнем значимости alpha. Нельзя отвергать, что степень образования определеяет вероятность возврата или невозврата кредита.\n"
   ]
  },
  {
   "cell_type": "markdown",
   "metadata": {},
   "source": [
    "Для наглядности возьмем абсолтную разность наблюдаемых частот и теретических частот на основе биномиального распределения, отсортируем по возрастанию значения для поиска группы с наиболее отклоняющимися данным:"
   ]
  },
  {
   "cell_type": "code",
   "execution_count": 65,
   "metadata": {},
   "outputs": [
    {
     "data": {
      "text/html": [
       "<div>\n",
       "<style scoped>\n",
       "    .dataframe tbody tr th:only-of-type {\n",
       "        vertical-align: middle;\n",
       "    }\n",
       "\n",
       "    .dataframe tbody tr th {\n",
       "        vertical-align: top;\n",
       "    }\n",
       "\n",
       "    .dataframe thead th {\n",
       "        text-align: right;\n",
       "    }\n",
       "</style>\n",
       "<table border=\"1\" class=\"dataframe\">\n",
       "  <thead>\n",
       "    <tr style=\"text-align: right;\">\n",
       "      <th></th>\n",
       "      <th>0</th>\n",
       "      <th>1</th>\n",
       "    </tr>\n",
       "  </thead>\n",
       "  <tbody>\n",
       "    <tr>\n",
       "      <th>0</th>\n",
       "      <td>8</td>\n",
       "      <td>8</td>\n",
       "    </tr>\n",
       "    <tr>\n",
       "      <th>6</th>\n",
       "      <td>15</td>\n",
       "      <td>15</td>\n",
       "    </tr>\n",
       "    <tr>\n",
       "      <th>4</th>\n",
       "      <td>53</td>\n",
       "      <td>53</td>\n",
       "    </tr>\n",
       "    <tr>\n",
       "      <th>5</th>\n",
       "      <td>130</td>\n",
       "      <td>130</td>\n",
       "    </tr>\n",
       "    <tr>\n",
       "      <th>3</th>\n",
       "      <td>1218</td>\n",
       "      <td>1218</td>\n",
       "    </tr>\n",
       "    <tr>\n",
       "      <th>1</th>\n",
       "      <td>3187</td>\n",
       "      <td>3187</td>\n",
       "    </tr>\n",
       "    <tr>\n",
       "      <th>2</th>\n",
       "      <td>3595</td>\n",
       "      <td>3595</td>\n",
       "    </tr>\n",
       "  </tbody>\n",
       "</table>\n",
       "</div>"
      ],
      "text/plain": [
       "      0     1\n",
       "0     8     8\n",
       "6    15    15\n",
       "4    53    53\n",
       "5   130   130\n",
       "3  1218  1218\n",
       "1  3187  3187\n",
       "2  3595  3595"
      ]
     },
     "execution_count": 65,
     "metadata": {},
     "output_type": "execute_result"
    }
   ],
   "source": [
    "pd.DataFrame(np.abs(contig_table-bernoulli_freq_list)).sort_values(by=[0])"
   ]
  },
  {
   "cell_type": "markdown",
   "metadata": {},
   "source": [
    "Чтобы ответить на вопрос, наличие какого образования - индикатор того, что человек отдаст долг и\n",
    "наоборот статистически попробуем обосновать с помощью доверительного интервала для доли. Это возможно благодаря тому, что данные порождены биномиальным распределением (значения 0 и 1). \n",
    "\n",
    "Соответственно, можно подсчитать долю дефолтов на наблюдаемых данных по каждой образовательной группе и оценить двухсторонний доверительынй интервал для доли.\n",
    "\n",
    "Группа с наименьшим значением по правому концу интервала будет признана как группа с образованием - индикатором возврата долга с наибоьшей степенью вероятности,\n",
    "а группа с наибольшим значением на парвом конце доверительного интервала - индикатор образовательной группы с наименьшей степенью вероятности.\n",
    "Однако важно, что при пересечении доверительных интервалов необходимо дополнительно проводить првоерку на равенство долей в двух независимых группах.\n",
    "\n",
    "С точки зрения репрезентацтивности группа без дефолтов (0-доктора) в таком случае не может быть проанализирована вовсе, ее мы отбросим."
   ]
  },
  {
   "cell_type": "code",
   "execution_count": 66,
   "metadata": {},
   "outputs": [],
   "source": [
    "from statsmodels.stats.proportion import proportion_confint\n",
    "from statsmodels.sandbox.stats.multicomp import multipletests "
   ]
  },
  {
   "cell_type": "code",
   "execution_count": 67,
   "metadata": {},
   "outputs": [],
   "source": [
    "df_crosstab2 = df_crosstab[df_crosstab[1]!=0].copy(deep=True)"
   ]
  },
  {
   "cell_type": "code",
   "execution_count": 68,
   "metadata": {},
   "outputs": [
    {
     "data": {
      "text/html": [
       "<div>\n",
       "<style scoped>\n",
       "    .dataframe tbody tr th:only-of-type {\n",
       "        vertical-align: middle;\n",
       "    }\n",
       "\n",
       "    .dataframe tbody tr th {\n",
       "        vertical-align: top;\n",
       "    }\n",
       "\n",
       "    .dataframe thead th {\n",
       "        text-align: right;\n",
       "    }\n",
       "</style>\n",
       "<table border=\"1\" class=\"dataframe\">\n",
       "  <thead>\n",
       "    <tr style=\"text-align: right;\">\n",
       "      <th>default</th>\n",
       "      <th>0</th>\n",
       "      <th>1</th>\n",
       "    </tr>\n",
       "    <tr>\n",
       "      <th>EDUCATION</th>\n",
       "      <th></th>\n",
       "      <th></th>\n",
       "    </tr>\n",
       "  </thead>\n",
       "  <tbody>\n",
       "    <tr>\n",
       "      <th>1</th>\n",
       "      <td>8549</td>\n",
       "      <td>2036</td>\n",
       "    </tr>\n",
       "    <tr>\n",
       "      <th>2</th>\n",
       "      <td>10700</td>\n",
       "      <td>3330</td>\n",
       "    </tr>\n",
       "    <tr>\n",
       "      <th>3</th>\n",
       "      <td>3680</td>\n",
       "      <td>1237</td>\n",
       "    </tr>\n",
       "    <tr>\n",
       "      <th>4</th>\n",
       "      <td>116</td>\n",
       "      <td>7</td>\n",
       "    </tr>\n",
       "    <tr>\n",
       "      <th>5</th>\n",
       "      <td>262</td>\n",
       "      <td>18</td>\n",
       "    </tr>\n",
       "    <tr>\n",
       "      <th>6</th>\n",
       "      <td>43</td>\n",
       "      <td>8</td>\n",
       "    </tr>\n",
       "  </tbody>\n",
       "</table>\n",
       "</div>"
      ],
      "text/plain": [
       "default        0     1\n",
       "EDUCATION             \n",
       "1           8549  2036\n",
       "2          10700  3330\n",
       "3           3680  1237\n",
       "4            116     7\n",
       "5            262    18\n",
       "6             43     8"
      ]
     },
     "execution_count": 68,
     "metadata": {},
     "output_type": "execute_result"
    }
   ],
   "source": [
    "df_crosstab2"
   ]
  },
  {
   "cell_type": "code",
   "execution_count": 69,
   "metadata": {},
   "outputs": [
    {
     "data": {
      "text/plain": [
       "array([[ 8549,  2036],\n",
       "       [10700,  3330],\n",
       "       [ 3680,  1237],\n",
       "       [  116,     7],\n",
       "       [  262,    18],\n",
       "       [   43,     8]], dtype=int64)"
      ]
     },
     "execution_count": 69,
     "metadata": {},
     "output_type": "execute_result"
    }
   ],
   "source": [
    "array_test = df_crosstab2.values\n",
    "array_test"
   ]
  },
  {
   "cell_type": "code",
   "execution_count": 70,
   "metadata": {},
   "outputs": [],
   "source": [
    "n_list = array_test.sum(axis=1).tolist()\n",
    "proportion_list = array_test[:, 1]/array_test.sum(axis=1)"
   ]
  },
  {
   "cell_type": "code",
   "execution_count": 71,
   "metadata": {},
   "outputs": [
    {
     "name": "stdout",
     "output_type": "stream",
     "text": [
      "Education group 1:. Conf. interval: (0.18483907261273544, 0.1998562509583557)\n",
      "Education group 2:. Conf. interval: (0.23030849133419215, 0.24438858635647073)\n",
      "Education group 3:. Conf. interval: (0.2394476798217757, 0.26370464883390865)\n",
      "Education group 4:. Conf. interval: (0.015968627127634798, 0.09785251108374732)\n",
      "Education group 5:. Conf. interval: (0.03555820708240264, 0.09301322148902591)\n",
      "Education group 6:. Conf. interval: (0.05705320644646174, 0.2566722837496167)\n"
     ]
    }
   ],
   "source": [
    "for i, np_tuple in enumerate(zip(n_list, proportion_list)):\n",
    "    i+=1\n",
    "    n, p = np_tuple\n",
    "    normal_interval = proportion_confint(n*p, n, method = 'normal')\n",
    "    print(f'Education group {i}:. Conf. interval: {normal_interval}')"
   ]
  },
  {
   "cell_type": "markdown",
   "metadata": {},
   "source": [
    "Имеется пересечение интервалов долей с группами образования: 2, 3, 6. Необходимо протестировать, различаются ли доли в группах 3 и 2, 3 и 6. Сравнение ведется относительно группы 3, поскольку она имеет самую большую вероятность дефолта по правому краю доверительного интервала.\n",
    "\n",
    "Поскольку имеется множественное сравнение, небходимо добавить поправку. Используем поправку методом Холма с целью достижения большей мощности поправки. Выборки независимые, поскольку измерения проводятся на разных людях.\n",
    "\n",
    "С другой стороны, имеется пересечение интервалов по 4 и 5 группам. Необходимо проверить, отличается ли доля в 4 группе относительно 5, поскольку в группе 5 наименьшая вероятность"
   ]
  },
  {
   "cell_type": "markdown",
   "metadata": {},
   "source": [
    "Формально будет производиться попарное сравнение долей со следующей постановкой:\n",
    "\n",
    "H0: p1 = p2\n",
    "\n",
    "H1: p1 != p2"
   ]
  },
  {
   "cell_type": "code",
   "execution_count": 72,
   "metadata": {},
   "outputs": [],
   "source": [
    "def proportions_diff_z_stat_ind(sample1, sample2):\n",
    "    n1 = len(sample1)\n",
    "    n2 = len(sample2)\n",
    "    \n",
    "    p1 = float(sum(sample1)) / n1\n",
    "    p2 = float(sum(sample2)) / n2 \n",
    "    P = float(p1*n1 + p2*n2) / (n1 + n2)\n",
    "    \n",
    "    return (p1 - p2) / np.sqrt(P * (1 - P) * (1. / n1 + 1. / n2))"
   ]
  },
  {
   "cell_type": "code",
   "execution_count": 73,
   "metadata": {},
   "outputs": [],
   "source": [
    "def proportions_diff_z_test(z_stat, alternative = 'two-sided'):\n",
    "    if alternative not in ('two-sided', 'less', 'greater'):\n",
    "        raise ValueError(\"alternative not recognized\\n\"\n",
    "                         \"should be 'two-sided', 'less' or 'greater'\")\n",
    "    \n",
    "    if alternative == 'two-sided':\n",
    "        return 2 * (1 - scipy.stats.norm.cdf(np.abs(z_stat)))\n",
    "    \n",
    "    if alternative == 'less':\n",
    "        return scipy.stats.norm.cdf(z_stat)\n",
    "\n",
    "    if alternative == 'greater':\n",
    "        return 1 - scipy.stats.norm.cdf(z_stat)"
   ]
  },
  {
   "cell_type": "code",
   "execution_count": 74,
   "metadata": {},
   "outputs": [],
   "source": [
    "# Получим список из нулей и единиц по группе\n",
    "def get_onez_zeros(array, group):\n",
    "    # Переведем номер группы в индекс\n",
    "    group_index = group-1\n",
    "    subarray = array_test[group_index,:]\n",
    "    zeros_list = [0 for i in range(subarray[0])]\n",
    "    ones_list = [1 for i in range(subarray[1])]\n",
    "    return zeros_list+ones_list"
   ]
  },
  {
   "cell_type": "code",
   "execution_count": 75,
   "metadata": {},
   "outputs": [
    {
     "data": {
      "text/plain": [
       "array([[ 8549,  2036],\n",
       "       [10700,  3330],\n",
       "       [ 3680,  1237],\n",
       "       [  116,     7],\n",
       "       [  262,    18],\n",
       "       [   43,     8]], dtype=int64)"
      ]
     },
     "execution_count": 75,
     "metadata": {},
     "output_type": "execute_result"
    }
   ],
   "source": [
    "array_test"
   ]
  },
  {
   "cell_type": "code",
   "execution_count": 76,
   "metadata": {},
   "outputs": [],
   "source": [
    "p_values = []\n",
    "for group in [2, 6]:\n",
    "    p_value = proportions_diff_z_test(proportions_diff_z_stat_ind(get_onez_zeros(array_test, 3),\n",
    "                                                                  get_onez_zeros(array_test, group)))\n",
    "    p_values.append(p_value)"
   ]
  },
  {
   "cell_type": "code",
   "execution_count": 77,
   "metadata": {},
   "outputs": [
    {
     "data": {
      "text/plain": [
       "[0.04473034193821812, 0.12047879675838336]"
      ]
     },
     "execution_count": 77,
     "metadata": {},
     "output_type": "execute_result"
    }
   ],
   "source": [
    "p_values"
   ]
  },
  {
   "cell_type": "code",
   "execution_count": 78,
   "metadata": {},
   "outputs": [],
   "source": [
    "reject, p_corrected, a1, a2 = multipletests(p_values, \n",
    "                                            alpha = alpha, \n",
    "                                            method = 'holm') "
   ]
  },
  {
   "cell_type": "code",
   "execution_count": 79,
   "metadata": {},
   "outputs": [
    {
     "data": {
      "text/plain": [
       "array([0.08946068, 0.1204788 ])"
      ]
     },
     "execution_count": 79,
     "metadata": {},
     "output_type": "execute_result"
    }
   ],
   "source": [
    "p_corrected"
   ]
  },
  {
   "cell_type": "code",
   "execution_count": 80,
   "metadata": {},
   "outputs": [
    {
     "name": "stdout",
     "output_type": "stream",
     "text": [
      "p-value: 0.777450\n"
     ]
    }
   ],
   "source": [
    "print(\"p-value: %f\" % proportions_diff_z_test(proportions_diff_z_stat_ind(get_onez_zeros(array_test, 4),\n",
    "                                                                          get_onez_zeros(array_test, 5))))"
   ]
  },
  {
   "cell_type": "markdown",
   "metadata": {},
   "source": [
    "Итого, на основе проведенных тестов можно сказать, что нельзя отвергать следующие суждения:\n",
    "\n",
    "1. Процент дефолта среди людей из образовательных групп 2, 6 и 3 одинаков.\n",
    "2. Процент дефолта среди людей образовательных групп 4 и 5 одинаков.\n",
    "\n",
    "Соответственно, можно сказать, что вероятность дефолта в сумме больше у людей, находящихся в группах с образованием категорий 2, 3, 6 (бакалавр, выпускник школы, нет данных).\n",
    "\n",
    "Наименьший прцоент дефолта среди групп образования 4, 5 (начальное образование, прочее)\n",
    "\n",
    "Статистически нельзя ничего сказать об образовательной группе 0 (доктора), поскольку выборка в рамках данной категории не репрезентативна.\n",
    "\n",
    "\n",
    "---"
   ]
  },
  {
   "cell_type": "markdown",
   "metadata": {},
   "source": [
    "__Задача 4.__\n",
    "\n",
    "Семейное положение (MARRIAGE): Проверьте, как связан семейный статус с индикатором дефолта: нужно предложить меру, по которой можно измерить возможную связь этих переменных и посчитать ее значение.\n"
   ]
  },
  {
   "cell_type": "markdown",
   "metadata": {},
   "source": [
    "Для начала необходимо очистить данные от лиц, семейный статус по которым неизвестен."
   ]
  },
  {
   "cell_type": "code",
   "execution_count": 81,
   "metadata": {},
   "outputs": [
    {
     "data": {
      "text/plain": [
       "array([1, 2, 3, 0], dtype=int64)"
      ]
     },
     "execution_count": 81,
     "metadata": {},
     "output_type": "execute_result"
    }
   ],
   "source": [
    "df['MARRIAGE'].unique()"
   ]
  },
  {
   "cell_type": "code",
   "execution_count": 82,
   "metadata": {},
   "outputs": [],
   "source": [
    "df2 = df[df['MARRIAGE'].isin([1,2])].copy(deep=True)"
   ]
  },
  {
   "cell_type": "code",
   "execution_count": 83,
   "metadata": {},
   "outputs": [],
   "source": [
    "# 1- женат/замужем, 0- холост"
   ]
  },
  {
   "cell_type": "code",
   "execution_count": 84,
   "metadata": {},
   "outputs": [],
   "source": [
    "df2['MARRIAGE'] = df2['MARRIAGE'].map({1:1, 2:0})"
   ]
  },
  {
   "cell_type": "code",
   "execution_count": 85,
   "metadata": {},
   "outputs": [
    {
     "data": {
      "text/html": [
       "<div>\n",
       "<style scoped>\n",
       "    .dataframe tbody tr th:only-of-type {\n",
       "        vertical-align: middle;\n",
       "    }\n",
       "\n",
       "    .dataframe tbody tr th {\n",
       "        vertical-align: top;\n",
       "    }\n",
       "\n",
       "    .dataframe thead th {\n",
       "        text-align: right;\n",
       "    }\n",
       "</style>\n",
       "<table border=\"1\" class=\"dataframe\">\n",
       "  <thead>\n",
       "    <tr style=\"text-align: right;\">\n",
       "      <th>default</th>\n",
       "      <th>0</th>\n",
       "      <th>1</th>\n",
       "    </tr>\n",
       "    <tr>\n",
       "      <th>MARRIAGE</th>\n",
       "      <th></th>\n",
       "      <th></th>\n",
       "    </tr>\n",
       "  </thead>\n",
       "  <tbody>\n",
       "    <tr>\n",
       "      <th>0</th>\n",
       "      <td>12623</td>\n",
       "      <td>3341</td>\n",
       "    </tr>\n",
       "    <tr>\n",
       "      <th>1</th>\n",
       "      <td>10453</td>\n",
       "      <td>3206</td>\n",
       "    </tr>\n",
       "  </tbody>\n",
       "</table>\n",
       "</div>"
      ],
      "text/plain": [
       "default       0     1\n",
       "MARRIAGE             \n",
       "0         12623  3341\n",
       "1         10453  3206"
      ]
     },
     "execution_count": 85,
     "metadata": {},
     "output_type": "execute_result"
    }
   ],
   "source": [
    "df_crosstab = pd.crosstab(df2['MARRIAGE'], df2['default'])\n",
    "df_crosstab"
   ]
  },
  {
   "cell_type": "markdown",
   "metadata": {},
   "source": [
    "В такой конфигурации данных - бинарных величин возможно использовать коэффициент корреляции Мэтьюса MCC для оценки силы связи между бинарными переменными."
   ]
  },
  {
   "cell_type": "code",
   "execution_count": 86,
   "metadata": {},
   "outputs": [
    {
     "data": {
      "text/plain": [
       "array([[12623,  3341],\n",
       "       [10453,  3206]], dtype=int64)"
      ]
     },
     "execution_count": 86,
     "metadata": {},
     "output_type": "execute_result"
    }
   ],
   "source": [
    "array_marriage = df_crosstab.values\n",
    "array_marriage"
   ]
  },
  {
   "cell_type": "code",
   "execution_count": 87,
   "metadata": {},
   "outputs": [],
   "source": [
    "def mcc_coef(array):\n",
    "    assert array.size==4\n",
    "    \n",
    "    a = array[0, 0]\n",
    "    d = array[1, 1]\n",
    "    b = array[0, 1]\n",
    "    c = array[1, 0]\n",
    "    \n",
    "    mcc = (a*d - b*c)/(np.sqrt( (a+b)*(a+c)*(b+d)*(c+d)  ))\n",
    "    return mcc"
   ]
  },
  {
   "cell_type": "code",
   "execution_count": 88,
   "metadata": {},
   "outputs": [
    {
     "data": {
      "text/plain": [
       "0.030555369920445503"
      ]
     },
     "execution_count": 88,
     "metadata": {},
     "output_type": "execute_result"
    }
   ],
   "source": [
    "mcc_coef(array_marriage)"
   ]
  },
  {
   "cell_type": "markdown",
   "metadata": {},
   "source": [
    "Степень взаимосвязи данных бинарных величин крайне мала. Проверим значимость данного показателя.\n",
    "\n",
    "H0: MCC=0\n",
    "\n",
    "H1: MCC!=0\n",
    "\n",
    "Если нулевая гипотеза справедлива и значение коэффициента корреляции действительно равно 0, то статистика этого критерия имеет распределение хи-квадрат с одной степенью свободы.\n",
    "\n",
    "Предварительно сверим предпосылки корректности применения Хи-квадрат в данном случае: объем выборки больше 40 наблюдений, а также соблюдается ряд следующих соотношений."
   ]
  },
  {
   "cell_type": "code",
   "execution_count": 89,
   "metadata": {},
   "outputs": [],
   "source": [
    "def check_requirements(array):\n",
    "    assert array.size==4\n",
    "    \n",
    "    n = array.sum()\n",
    "    a = array[0, 0]\n",
    "    d = array[1, 1]\n",
    "    b = array[0, 1]\n",
    "    c = array[1, 0]\n",
    "    \n",
    "    assert n > 40\n",
    "    assert (a+c)*(a+b)/n > 5\n",
    "    assert (a+c)*(c+d)/n > 5\n",
    "    assert (b+d)*(a+d)/n > 5\n",
    "    assert (b+d)*(c+d)/n > 5\n",
    "    \n",
    "    print(f'OK:\\n n: {n}')\n",
    "    print(f'(a+c)*(a+b)/n: {(a+c)*(a+b)/n}\\n(a+c)*(c+d)/n: {(a+c)*(c+d)/n}' +\n",
    "          f'\\n(b+d)*(a+d)/n: {(b+d)*(a+d)/n}\\n(b+d)*(c+d)/n: {(b+d)*(c+d)/n}'\n",
    "         )"
   ]
  },
  {
   "cell_type": "code",
   "execution_count": 90,
   "metadata": {},
   "outputs": [
    {
     "name": "stdout",
     "output_type": "stream",
     "text": [
      "OK:\n",
      " n: 29623\n",
      "(a+c)*(a+b)/n: 12435.7851669311\n",
      "(a+c)*(c+d)/n: 10640.2148330689\n",
      "(b+d)*(a+d)/n: 3498.3783884144077\n",
      "(b+d)*(c+d)/n: 3018.785166931101\n"
     ]
    }
   ],
   "source": [
    "check_requirements(array_marriage)"
   ]
  },
  {
   "cell_type": "code",
   "execution_count": 91,
   "metadata": {},
   "outputs": [
    {
     "name": "stdout",
     "output_type": "stream",
     "text": [
      "chi^2: 905.1417231533571\n",
      "p-value: 0.0\n"
     ]
    }
   ],
   "source": [
    "n = array_marriage.sum()\n",
    "doff=1\n",
    "\n",
    "chi2 = n*mcc_coef(array_marriage)\n",
    "p_value = 1-st.chi2.cdf(chi2_stat_corrected, doff)\n",
    "\n",
    "print(f'chi^2: {chi2}\\np-value: {p_value}')"
   ]
  },
  {
   "cell_type": "markdown",
   "metadata": {},
   "source": [
    "Поскольку p-value < alpha=0.05, гипотеза H0 о равенстве коэффициента MCC нулю отвергается. Есть небольшая, слабая связь между вероятностью получения дефолта и семейным положение соответственно.\n",
    "\n",
    "---"
   ]
  },
  {
   "cell_type": "markdown",
   "metadata": {},
   "source": [
    "__Задача 5.__\n",
    "\n",
    "Возраст (AGE): Относительно двух групп людей вернувших и не вернувших кредит проверьте следующие гипотезы: \n",
    "\n",
    "* a) о равенстве медианных значений возрастов людей\n",
    "* b) о равенстве распределений с помощью одного из подходящих непараметрических критериев проверки равенства средних. Значимы ли полученные результаты с практической точки зрения ?"
   ]
  },
  {
   "cell_type": "code",
   "execution_count": 92,
   "metadata": {},
   "outputs": [
    {
     "data": {
      "image/png": "[encoded data removed]",
      "text/plain": [
       "<Figure size 864x360 with 2 Axes>"
      ]
     },
     "metadata": {
      "image/png": {
       "height": 357,
       "width": 714
      }
     },
     "output_type": "display_data"
    }
   ],
   "source": [
    "plot_grouped_feature(df, 'AGE', 'default', 'Индикатор невозврата')"
   ]
  },
  {
   "cell_type": "markdown",
   "metadata": {},
   "source": [
    "Визуальный анализ распределений исходов дефолтов в зависимости от возраста не дал результатов. Медианы рапсределений одинаковы, разделить по порогу возраста распределения нельзя."
   ]
  },
  {
   "cell_type": "markdown",
   "metadata": {},
   "source": [
    "__a)__\n",
    "Аналогично первой задаче, проведем интервальную оценку медианы с помощью бутстрепа. Для этого сгенерируем из выборки данных по группам default=1 и default=0 псевдовыборки с возвращением. Для каждой пары псевдовыборок расчитаем разницу их медиан и рассмотрим распределение разности медиан для сгенерированных псевдовыборок."
   ]
  },
  {
   "cell_type": "code",
   "execution_count": 93,
   "metadata": {},
   "outputs": [],
   "source": [
    "age_default_1 = df[df['default']==1]['AGE'].values\n",
    "age_default_0 = df[df['default']==0]['AGE'].values"
   ]
  },
  {
   "cell_type": "code",
   "execution_count": 94,
   "metadata": {},
   "outputs": [],
   "source": [
    "np.random.seed(0)\n",
    "\n",
    "lb_def_1_median_scores = np.array(list(map(np.median, get_bootstrap_samples(age_default_1, 1000))))\n",
    "lb_def_0_median_scores = np.array(list(map(np.median, get_bootstrap_samples(age_default_0, 1000))))"
   ]
  },
  {
   "cell_type": "code",
   "execution_count": 95,
   "metadata": {},
   "outputs": [
    {
     "data": {
      "text/plain": [
       "array([-1.,  0.])"
      ]
     },
     "execution_count": 95,
     "metadata": {},
     "output_type": "execute_result"
    }
   ],
   "source": [
    "diff_value = lb_def_0_median_scores - lb_def_1_median_scores\n",
    "stat_intervals(diff_value, alpha)"
   ]
  },
  {
   "cell_type": "markdown",
   "metadata": {},
   "source": [
    "Интервальная оценка разницы медиан с помощью бутстрепа показывает, что медианный возраст групп клиентов, вернувших кредит и не вернувших его, одинаков."
   ]
  },
  {
   "cell_type": "markdown",
   "metadata": {},
   "source": [
    "__b)__ Поскольку распределение признака `AGE` не является нормальным, нет возможности воспользоваться стандартными параметрическими тестами. Сравниваются значения по двум независимым выборкам, поэтому для проверки гипотезы о равенстве распределений с помощью рангового критерия равенства средних воспользуемся непараметрическим тестом Уилкоксона-Мана-Уитни. \n",
    "\n",
    "H0: $F_{Age|default=1}(x) = F_{Age|default=0}(x)$\n",
    "\n",
    "H1: $F_{Age|default=1}(x) = F_{Age|default=0}(x+\\Delta)$\n",
    "\n",
    "$alpha = 0.05$"
   ]
  },
  {
   "cell_type": "code",
   "execution_count": 96,
   "metadata": {},
   "outputs": [
    {
     "data": {
      "text/plain": [
       "MannwhitneyuResult(statistic=76966879.5, pvalue=0.1862517717449308)"
      ]
     },
     "execution_count": 96,
     "metadata": {},
     "output_type": "execute_result"
    }
   ],
   "source": [
    "stats.mannwhitneyu(age_default_1, age_default_0)"
   ]
  },
  {
   "cell_type": "markdown",
   "metadata": {},
   "source": [
    "p-value, т.е. достигаемый уровень значимости для проведенного теста ~0.186. (> alpha=0.05)\n",
    "\n",
    "__Соответственно, гипотеза H0: $F_{Age|default=1}(x) = F_{Age|default=0}(x)$ не отвергается при заданном уровне alpha=0.05.__\n",
    "\n",
    "Распределение возраста у лиц, имеющих задолженность, не отличается от распределения возраста без задолженностей с уровнем alpha=0.05.\n",
    "\n",
    "Таким образом, исходя из полученный выборки, возраст в исследуемом банке не является информативным признаком относительно определения дефолта заемщика.\n",
    "\n",
    "---"
   ]
  },
  {
   "cell_type": "code",
   "execution_count": null,
   "metadata": {},
   "outputs": [],
   "source": []
  },
  {
   "cell_type": "code",
   "execution_count": null,
   "metadata": {},
   "outputs": [],
   "source": []
  }
 ],
 "metadata": {
  "kernelspec": {
   "display_name": "Python 3",
   "language": "python",
   "name": "python3"
  },
  "language_info": {
   "codemirror_mode": {
    "name": "ipython",
    "version": 3
   },
   "file_extension": ".py",
   "mimetype": "text/x-python",
   "name": "python",
   "nbconvert_exporter": "python",
   "pygments_lexer": "ipython3",
   "version": "3.7.6"
  }
 },
 "nbformat": 4,
 "nbformat_minor": 4
}
